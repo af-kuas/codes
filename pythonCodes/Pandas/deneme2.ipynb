{
 "cells": [
  {
   "cell_type": "code",
   "execution_count": 1,
   "metadata": {},
   "outputs": [],
   "source": [
    "import pandas as pd"
   ]
  },
  {
   "cell_type": "code",
   "execution_count": 4,
   "metadata": {},
   "outputs": [],
   "source": [
    "calisanlar = [\"ahmet\",\"deniz\",\"selin\",\"can\",\"efe\"]\n",
    "maaslar    = [4000,5000,4500,3500,4000]\n",
    "\n",
    "seri = pd.Series(data = calisanlar , index = maaslar)\n",
    "maaslarSeri = pd.Series(maaslar)"
   ]
  },
  {
   "cell_type": "code",
   "execution_count": 5,
   "metadata": {},
   "outputs": [
    {
     "data": {
      "text/plain": [
       "4000    ahmet\n",
       "5000    deniz\n",
       "4500    selin\n",
       "3500      can\n",
       "4000      efe\n",
       "dtype: object"
      ]
     },
     "execution_count": 5,
     "metadata": {},
     "output_type": "execute_result"
    }
   ],
   "source": [
    "seri"
   ]
  },
  {
   "cell_type": "code",
   "execution_count": 10,
   "metadata": {},
   "outputs": [
    {
     "data": {
      "text/plain": [
       "count       5.000000\n",
       "mean     4200.000000\n",
       "std       570.087713\n",
       "min      3500.000000\n",
       "25%      4000.000000\n",
       "50%      4000.000000\n",
       "75%      4500.000000\n",
       "max      5000.000000\n",
       "dtype: float64"
      ]
     },
     "execution_count": 10,
     "metadata": {},
     "output_type": "execute_result"
    }
   ],
   "source": [
    "maaslarSeri.describe()"
   ]
  },
  {
   "cell_type": "markdown",
   "metadata": {},
   "source": []
  }
 ],
 "metadata": {
  "kernelspec": {
   "display_name": "Python 3",
   "language": "python",
   "name": "python3"
  },
  "language_info": {
   "codemirror_mode": {
    "name": "ipython",
    "version": 3
   },
   "file_extension": ".py",
   "mimetype": "text/x-python",
   "name": "python",
   "nbconvert_exporter": "python",
   "pygments_lexer": "ipython3",
   "version": "3.7.7"
  }
 },
 "nbformat": 4,
 "nbformat_minor": 4
}
