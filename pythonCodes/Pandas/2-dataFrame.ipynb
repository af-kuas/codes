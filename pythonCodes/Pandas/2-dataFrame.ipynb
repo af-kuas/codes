{
 "cells": [
  {
   "cell_type": "code",
   "execution_count": 1,
   "metadata": {
    "collapsed": true
   },
   "outputs": [],
   "source": [
    "import pandas as pd"
   ]
  },
  {
   "cell_type": "code",
   "execution_count": 2,
   "outputs": [],
   "source": [
    "df = pd.read_csv(\"calisan_data.csv\")"
   ],
   "metadata": {
    "collapsed": false,
    "pycharm": {
     "name": "#%%\n"
    }
   }
  },
  {
   "cell_type": "code",
   "execution_count": 3,
   "outputs": [
    {
     "data": {
      "text/plain": "Isimler        0\nSoyisimler     0\nTelefonTuru    0\nDepartman      0\nSehir          0\nDogumTarihi    0\nMaas           0\nTelefon        0\nmail           0\ndtype: int64"
     },
     "execution_count": 3,
     "metadata": {},
     "output_type": "execute_result"
    }
   ],
   "source": [
    "\n",
    "df.isnull().sum()"
   ],
   "metadata": {
    "collapsed": false,
    "pycharm": {
     "name": "#%%\n"
    }
   }
  },
  {
   "cell_type": "code",
   "execution_count": 4,
   "outputs": [
    {
     "data": {
      "text/plain": "0"
     },
     "execution_count": 4,
     "metadata": {},
     "output_type": "execute_result"
    }
   ],
   "source": [
    "df.isnull().sum().sum()"
   ],
   "metadata": {
    "collapsed": false,
    "pycharm": {
     "name": "#%%\n"
    }
   }
  },
  {
   "cell_type": "code",
   "execution_count": 5,
   "outputs": [
    {
     "data": {
      "text/plain": "  Isimler Soyisimler   TelefonTuru                    Departman     Sehir  \\\n0     ALİ   KANDEMİR         Sabit  Müşteri İlişkileri ve Satış   Kocaeli   \n1  MAHMUT      ÇEVİK         Sabit           Yazılım Geliştirme  İstanbul   \n2  MANSUR    ERKURAN      Vodafone           Yazılım Geliştirme    Ankara   \n3   GAMZE      TÜTEN      Vodafone           Yazılım Geliştirme     Bursa   \n4   MİRAÇ     ÖZTÜRK  Türk Telekom           Yazılım Geliştirme  İstanbul   \n\n     DogumTarihi   Maas     Telefon                      mail  \n0  22 Nisan 1985   9477  2625462003    kandemirali@yandex.com  \n1  02 Mayıs 1979  11331  2128804662   mahmut.çevik@yandex.com  \n2  02 Kasım 1979  11679  5488439920  mansur.erkuran@gmail.com  \n3  03 Şubat 1987   5206  5427560798    tütengamze@hotmail.com  \n4   22 Ekim 1987   8670  5544899572   öztürk.miraç@yandex.com  ",
      "text/html": "<div>\n<style scoped>\n    .dataframe tbody tr th:only-of-type {\n        vertical-align: middle;\n    }\n\n    .dataframe tbody tr th {\n        vertical-align: top;\n    }\n\n    .dataframe thead th {\n        text-align: right;\n    }\n</style>\n<table border=\"1\" class=\"dataframe\">\n  <thead>\n    <tr style=\"text-align: right;\">\n      <th></th>\n      <th>Isimler</th>\n      <th>Soyisimler</th>\n      <th>TelefonTuru</th>\n      <th>Departman</th>\n      <th>Sehir</th>\n      <th>DogumTarihi</th>\n      <th>Maas</th>\n      <th>Telefon</th>\n      <th>mail</th>\n    </tr>\n  </thead>\n  <tbody>\n    <tr>\n      <th>0</th>\n      <td>ALİ</td>\n      <td>KANDEMİR</td>\n      <td>Sabit</td>\n      <td>Müşteri İlişkileri ve Satış</td>\n      <td>Kocaeli</td>\n      <td>22 Nisan 1985</td>\n      <td>9477</td>\n      <td>2625462003</td>\n      <td>kandemirali@yandex.com</td>\n    </tr>\n    <tr>\n      <th>1</th>\n      <td>MAHMUT</td>\n      <td>ÇEVİK</td>\n      <td>Sabit</td>\n      <td>Yazılım Geliştirme</td>\n      <td>İstanbul</td>\n      <td>02 Mayıs 1979</td>\n      <td>11331</td>\n      <td>2128804662</td>\n      <td>mahmut.çevik@yandex.com</td>\n    </tr>\n    <tr>\n      <th>2</th>\n      <td>MANSUR</td>\n      <td>ERKURAN</td>\n      <td>Vodafone</td>\n      <td>Yazılım Geliştirme</td>\n      <td>Ankara</td>\n      <td>02 Kasım 1979</td>\n      <td>11679</td>\n      <td>5488439920</td>\n      <td>mansur.erkuran@gmail.com</td>\n    </tr>\n    <tr>\n      <th>3</th>\n      <td>GAMZE</td>\n      <td>TÜTEN</td>\n      <td>Vodafone</td>\n      <td>Yazılım Geliştirme</td>\n      <td>Bursa</td>\n      <td>03 Şubat 1987</td>\n      <td>5206</td>\n      <td>5427560798</td>\n      <td>tütengamze@hotmail.com</td>\n    </tr>\n    <tr>\n      <th>4</th>\n      <td>MİRAÇ</td>\n      <td>ÖZTÜRK</td>\n      <td>Türk Telekom</td>\n      <td>Yazılım Geliştirme</td>\n      <td>İstanbul</td>\n      <td>22 Ekim 1987</td>\n      <td>8670</td>\n      <td>5544899572</td>\n      <td>öztürk.miraç@yandex.com</td>\n    </tr>\n  </tbody>\n</table>\n</div>"
     },
     "execution_count": 5,
     "metadata": {},
     "output_type": "execute_result"
    }
   ],
   "source": [
    "df.head()"
   ],
   "metadata": {
    "collapsed": false,
    "pycharm": {
     "name": "#%%\n"
    }
   }
  },
  {
   "cell_type": "code",
   "execution_count": 6,
   "outputs": [
    {
     "data": {
      "text/plain": "     Isimler     Soyisimler   TelefonTuru           Departman     Sehir  \\\n2440  YILMAZ         YAZICI      Vodafone  Yazılım Geliştirme   Kocaeli   \n2441  ZEYNEP     DOĞANGÜZEL  Türk Telekom  Yazılım Geliştirme  İstanbul   \n2442   CANER         AKKAYA  Türk Telekom  Yazılım Geliştirme  İstanbul   \n2443  VOLKAN  FEYZULLAHOĞLU  Türk Telekom  Yazılım Geliştirme     Bursa   \n2444    EMRE          ŞAHİN      Vodafone  Yazılım Geliştirme  İstanbul   \n\n         DogumTarihi   Maas     Telefon                            mail  \n2440  09 Aralık 1975  12593  5443005679         yilmaz.yazici@yahoo.com  \n2441   22 Mayıs 1986   6021  5533689407     zeynep.doğangüzel@gmail.com  \n2442   07 Kasım 1983   8716  5533969681         akkaya.caner@yandex.com  \n2443  09 Temmuz 1984   9408  5069462233  feyzullahoğlu.volkan@yahoo.com  \n2444  16 Temmuz 1978  14493  5415697256           emre.şahin@yandex.com  ",
      "text/html": "<div>\n<style scoped>\n    .dataframe tbody tr th:only-of-type {\n        vertical-align: middle;\n    }\n\n    .dataframe tbody tr th {\n        vertical-align: top;\n    }\n\n    .dataframe thead th {\n        text-align: right;\n    }\n</style>\n<table border=\"1\" class=\"dataframe\">\n  <thead>\n    <tr style=\"text-align: right;\">\n      <th></th>\n      <th>Isimler</th>\n      <th>Soyisimler</th>\n      <th>TelefonTuru</th>\n      <th>Departman</th>\n      <th>Sehir</th>\n      <th>DogumTarihi</th>\n      <th>Maas</th>\n      <th>Telefon</th>\n      <th>mail</th>\n    </tr>\n  </thead>\n  <tbody>\n    <tr>\n      <th>2440</th>\n      <td>YILMAZ</td>\n      <td>YAZICI</td>\n      <td>Vodafone</td>\n      <td>Yazılım Geliştirme</td>\n      <td>Kocaeli</td>\n      <td>09 Aralık 1975</td>\n      <td>12593</td>\n      <td>5443005679</td>\n      <td>yilmaz.yazici@yahoo.com</td>\n    </tr>\n    <tr>\n      <th>2441</th>\n      <td>ZEYNEP</td>\n      <td>DOĞANGÜZEL</td>\n      <td>Türk Telekom</td>\n      <td>Yazılım Geliştirme</td>\n      <td>İstanbul</td>\n      <td>22 Mayıs 1986</td>\n      <td>6021</td>\n      <td>5533689407</td>\n      <td>zeynep.doğangüzel@gmail.com</td>\n    </tr>\n    <tr>\n      <th>2442</th>\n      <td>CANER</td>\n      <td>AKKAYA</td>\n      <td>Türk Telekom</td>\n      <td>Yazılım Geliştirme</td>\n      <td>İstanbul</td>\n      <td>07 Kasım 1983</td>\n      <td>8716</td>\n      <td>5533969681</td>\n      <td>akkaya.caner@yandex.com</td>\n    </tr>\n    <tr>\n      <th>2443</th>\n      <td>VOLKAN</td>\n      <td>FEYZULLAHOĞLU</td>\n      <td>Türk Telekom</td>\n      <td>Yazılım Geliştirme</td>\n      <td>Bursa</td>\n      <td>09 Temmuz 1984</td>\n      <td>9408</td>\n      <td>5069462233</td>\n      <td>feyzullahoğlu.volkan@yahoo.com</td>\n    </tr>\n    <tr>\n      <th>2444</th>\n      <td>EMRE</td>\n      <td>ŞAHİN</td>\n      <td>Vodafone</td>\n      <td>Yazılım Geliştirme</td>\n      <td>İstanbul</td>\n      <td>16 Temmuz 1978</td>\n      <td>14493</td>\n      <td>5415697256</td>\n      <td>emre.şahin@yandex.com</td>\n    </tr>\n  </tbody>\n</table>\n</div>"
     },
     "execution_count": 6,
     "metadata": {},
     "output_type": "execute_result"
    }
   ],
   "source": [
    "df.tail()"
   ],
   "metadata": {
    "collapsed": false,
    "pycharm": {
     "name": "#%%\n"
    }
   }
  },
  {
   "cell_type": "code",
   "execution_count": 7,
   "outputs": [],
   "source": [
    "matris = df.values"
   ],
   "metadata": {
    "collapsed": false,
    "pycharm": {
     "name": "#%%\n"
    }
   }
  },
  {
   "cell_type": "code",
   "execution_count": 8,
   "outputs": [
    {
     "data": {
      "text/plain": "array([['ALİ', 'KANDEMİR', 'Sabit', ..., 9477, 2625462003,\n        'kandemirali@yandex.com'],\n       ['MAHMUT', 'ÇEVİK', 'Sabit', ..., 11331, 2128804662,\n        'mahmut.çevik@yandex.com'],\n       ['MANSUR', 'ERKURAN', 'Vodafone', ..., 11679, 5488439920,\n        'mansur.erkuran@gmail.com'],\n       ...,\n       ['CANER', 'AKKAYA', 'Türk Telekom', ..., 8716, 5533969681,\n        'akkaya.caner@yandex.com'],\n       ['VOLKAN', 'FEYZULLAHOĞLU', 'Türk Telekom', ..., 9408, 5069462233,\n        'feyzullahoğlu.volkan@yahoo.com'],\n       ['EMRE', 'ŞAHİN', 'Vodafone', ..., 14493, 5415697256,\n        'emre.şahin@yandex.com']], dtype=object)"
     },
     "execution_count": 8,
     "metadata": {},
     "output_type": "execute_result"
    }
   ],
   "source": [
    "matris"
   ],
   "metadata": {
    "collapsed": false,
    "pycharm": {
     "name": "#%%\n"
    }
   }
  },
  {
   "cell_type": "code",
   "execution_count": 9,
   "outputs": [
    {
     "data": {
      "text/plain": "'ALİ'"
     },
     "execution_count": 9,
     "metadata": {},
     "output_type": "execute_result"
    }
   ],
   "source": [
    "matris[0][0]"
   ],
   "metadata": {
    "collapsed": false,
    "pycharm": {
     "name": "#%%\n"
    }
   }
  },
  {
   "cell_type": "code",
   "execution_count": 10,
   "outputs": [
    {
     "data": {
      "text/plain": "0          ALİ\n1       MAHMUT\n2       MANSUR\n3        GAMZE\n4        MİRAÇ\n         ...  \n2440    YILMAZ\n2441    ZEYNEP\n2442     CANER\n2443    VOLKAN\n2444      EMRE\nName: Isimler, Length: 2445, dtype: object"
     },
     "execution_count": 10,
     "metadata": {},
     "output_type": "execute_result"
    }
   ],
   "source": [
    "df.Isimler"
   ],
   "metadata": {
    "collapsed": false,
    "pycharm": {
     "name": "#%%\n"
    }
   }
  },
  {
   "cell_type": "code",
   "execution_count": 11,
   "outputs": [
    {
     "data": {
      "text/plain": "'ALİ'"
     },
     "execution_count": 11,
     "metadata": {},
     "output_type": "execute_result"
    }
   ],
   "source": [
    "df.Isimler[0]"
   ],
   "metadata": {
    "collapsed": false,
    "pycharm": {
     "name": "#%%\n"
    }
   }
  },
  {
   "cell_type": "code",
   "execution_count": 12,
   "outputs": [
    {
     "data": {
      "text/plain": "Isimler        object\nSoyisimler     object\nTelefonTuru    object\nDepartman      object\nSehir          object\nDogumTarihi    object\nMaas            int64\nTelefon         int64\nmail           object\ndtype: object"
     },
     "execution_count": 12,
     "metadata": {},
     "output_type": "execute_result"
    }
   ],
   "source": [
    "df.dtypes"
   ],
   "metadata": {
    "collapsed": false,
    "pycharm": {
     "name": "#%%\n"
    }
   }
  },
  {
   "cell_type": "code",
   "execution_count": 13,
   "outputs": [
    {
     "data": {
      "text/plain": "               Maas       Telefon\ncount   2445.000000  2.445000e+03\nmean    8140.990184  5.103949e+09\nstd     3598.321001  9.171416e+08\nmin     3017.000000  2.121115e+09\n25%     5403.000000  5.078872e+09\n50%     7385.000000  5.448952e+09\n75%     9984.000000  5.522060e+09\nmax    24270.000000  5.569854e+09",
      "text/html": "<div>\n<style scoped>\n    .dataframe tbody tr th:only-of-type {\n        vertical-align: middle;\n    }\n\n    .dataframe tbody tr th {\n        vertical-align: top;\n    }\n\n    .dataframe thead th {\n        text-align: right;\n    }\n</style>\n<table border=\"1\" class=\"dataframe\">\n  <thead>\n    <tr style=\"text-align: right;\">\n      <th></th>\n      <th>Maas</th>\n      <th>Telefon</th>\n    </tr>\n  </thead>\n  <tbody>\n    <tr>\n      <th>count</th>\n      <td>2445.000000</td>\n      <td>2.445000e+03</td>\n    </tr>\n    <tr>\n      <th>mean</th>\n      <td>8140.990184</td>\n      <td>5.103949e+09</td>\n    </tr>\n    <tr>\n      <th>std</th>\n      <td>3598.321001</td>\n      <td>9.171416e+08</td>\n    </tr>\n    <tr>\n      <th>min</th>\n      <td>3017.000000</td>\n      <td>2.121115e+09</td>\n    </tr>\n    <tr>\n      <th>25%</th>\n      <td>5403.000000</td>\n      <td>5.078872e+09</td>\n    </tr>\n    <tr>\n      <th>50%</th>\n      <td>7385.000000</td>\n      <td>5.448952e+09</td>\n    </tr>\n    <tr>\n      <th>75%</th>\n      <td>9984.000000</td>\n      <td>5.522060e+09</td>\n    </tr>\n    <tr>\n      <th>max</th>\n      <td>24270.000000</td>\n      <td>5.569854e+09</td>\n    </tr>\n  </tbody>\n</table>\n</div>"
     },
     "execution_count": 13,
     "metadata": {},
     "output_type": "execute_result"
    }
   ],
   "source": [
    "df.describe()"
   ],
   "metadata": {
    "collapsed": false,
    "pycharm": {
     "name": "#%%\n"
    }
   }
  },
  {
   "cell_type": "code",
   "execution_count": 21,
   "outputs": [
    {
     "data": {
      "text/plain": "Index(['Isimler', 'Soyisimler', 'TelefonTuru', 'Departman', 'Sehir',\n       'DogumTarihi', 'Maas', 'Telefon', 'mail'],\n      dtype='object')"
     },
     "execution_count": 21,
     "metadata": {},
     "output_type": "execute_result"
    }
   ],
   "source": [
    "df.columns"
   ],
   "metadata": {
    "collapsed": false,
    "pycharm": {
     "name": "#%%\n"
    }
   }
  },
  {
   "cell_type": "code",
   "execution_count": 22,
   "outputs": [
    {
     "data": {
      "text/plain": "(2445, 9)"
     },
     "execution_count": 22,
     "metadata": {},
     "output_type": "execute_result"
    }
   ],
   "source": [
    "df.shape"
   ],
   "metadata": {
    "collapsed": false,
    "pycharm": {
     "name": "#%%\n"
    }
   }
  },
  {
   "cell_type": "code",
   "execution_count": 23,
   "outputs": [
    {
     "data": {
      "text/plain": "RangeIndex(start=0, stop=2445, step=1)"
     },
     "execution_count": 23,
     "metadata": {},
     "output_type": "execute_result"
    }
   ],
   "source": [
    "df.index"
   ],
   "metadata": {
    "collapsed": false,
    "pycharm": {
     "name": "#%%\n"
    }
   }
  },
  {
   "cell_type": "code",
   "execution_count": 24,
   "outputs": [
    {
     "name": "stdout",
     "output_type": "stream",
     "text": [
      "<class 'pandas.core.frame.DataFrame'>\n",
      "RangeIndex: 2445 entries, 0 to 2444\n",
      "Data columns (total 9 columns):\n",
      " #   Column       Non-Null Count  Dtype \n",
      "---  ------       --------------  ----- \n",
      " 0   Isimler      2445 non-null   object\n",
      " 1   Soyisimler   2445 non-null   object\n",
      " 2   TelefonTuru  2445 non-null   object\n",
      " 3   Departman    2445 non-null   object\n",
      " 4   Sehir        2445 non-null   object\n",
      " 5   DogumTarihi  2445 non-null   object\n",
      " 6   Maas         2445 non-null   int64 \n",
      " 7   Telefon      2445 non-null   int64 \n",
      " 8   mail         2445 non-null   object\n",
      "dtypes: int64(2), object(7)\n",
      "memory usage: 172.0+ KB\n"
     ]
    }
   ],
   "source": [
    "df.info()"
   ],
   "metadata": {
    "collapsed": false,
    "pycharm": {
     "name": "#%%\n"
    }
   }
  },
  {
   "cell_type": "code",
   "execution_count": 27,
   "outputs": [
    {
     "data": {
      "text/plain": "0        9477\n1       11331\n2       11679\n3        5206\n4        8670\n        ...  \n2440    12593\n2441     6021\n2442     8716\n2443     9408\n2444    14493\nName: Maas, Length: 2445, dtype: int64"
     },
     "execution_count": 27,
     "metadata": {},
     "output_type": "execute_result"
    }
   ],
   "source": [
    "df[\"Maas\"]"
   ],
   "metadata": {
    "collapsed": false,
    "pycharm": {
     "name": "#%%\n"
    }
   }
  },
  {
   "cell_type": "code",
   "execution_count": 28,
   "outputs": [
    {
     "data": {
      "text/plain": "     Isimler     Soyisimler   TelefonTuru                    Departman  \\\n0        ALİ       KANDEMİR         Sabit  Müşteri İlişkileri ve Satış   \n1     MAHMUT          ÇEVİK         Sabit           Yazılım Geliştirme   \n2     MANSUR        ERKURAN      Vodafone           Yazılım Geliştirme   \n3      GAMZE          TÜTEN      Vodafone           Yazılım Geliştirme   \n4      MİRAÇ         ÖZTÜRK  Türk Telekom           Yazılım Geliştirme   \n...      ...            ...           ...                          ...   \n2440  YILMAZ         YAZICI      Vodafone           Yazılım Geliştirme   \n2441  ZEYNEP     DOĞANGÜZEL  Türk Telekom           Yazılım Geliştirme   \n2442   CANER         AKKAYA  Türk Telekom           Yazılım Geliştirme   \n2443  VOLKAN  FEYZULLAHOĞLU  Türk Telekom           Yazılım Geliştirme   \n2444    EMRE          ŞAHİN      Vodafone           Yazılım Geliştirme   \n\n         Sehir     DogumTarihi   maas     Telefon  \\\n0      Kocaeli   22 Nisan 1985   9477  2625462003   \n1     İstanbul   02 Mayıs 1979  11331  2128804662   \n2       Ankara   02 Kasım 1979  11679  5488439920   \n3        Bursa   03 Şubat 1987   5206  5427560798   \n4     İstanbul    22 Ekim 1987   8670  5544899572   \n...        ...             ...    ...         ...   \n2440   Kocaeli  09 Aralık 1975  12593  5443005679   \n2441  İstanbul   22 Mayıs 1986   6021  5533689407   \n2442  İstanbul   07 Kasım 1983   8716  5533969681   \n2443     Bursa  09 Temmuz 1984   9408  5069462233   \n2444  İstanbul  16 Temmuz 1978  14493  5415697256   \n\n                                mail  \n0             kandemirali@yandex.com  \n1            mahmut.çevik@yandex.com  \n2           mansur.erkuran@gmail.com  \n3             tütengamze@hotmail.com  \n4            öztürk.miraç@yandex.com  \n...                              ...  \n2440         yilmaz.yazici@yahoo.com  \n2441     zeynep.doğangüzel@gmail.com  \n2442         akkaya.caner@yandex.com  \n2443  feyzullahoğlu.volkan@yahoo.com  \n2444           emre.şahin@yandex.com  \n\n[2445 rows x 9 columns]",
      "text/html": "<div>\n<style scoped>\n    .dataframe tbody tr th:only-of-type {\n        vertical-align: middle;\n    }\n\n    .dataframe tbody tr th {\n        vertical-align: top;\n    }\n\n    .dataframe thead th {\n        text-align: right;\n    }\n</style>\n<table border=\"1\" class=\"dataframe\">\n  <thead>\n    <tr style=\"text-align: right;\">\n      <th></th>\n      <th>Isimler</th>\n      <th>Soyisimler</th>\n      <th>TelefonTuru</th>\n      <th>Departman</th>\n      <th>Sehir</th>\n      <th>DogumTarihi</th>\n      <th>maas</th>\n      <th>Telefon</th>\n      <th>mail</th>\n    </tr>\n  </thead>\n  <tbody>\n    <tr>\n      <th>0</th>\n      <td>ALİ</td>\n      <td>KANDEMİR</td>\n      <td>Sabit</td>\n      <td>Müşteri İlişkileri ve Satış</td>\n      <td>Kocaeli</td>\n      <td>22 Nisan 1985</td>\n      <td>9477</td>\n      <td>2625462003</td>\n      <td>kandemirali@yandex.com</td>\n    </tr>\n    <tr>\n      <th>1</th>\n      <td>MAHMUT</td>\n      <td>ÇEVİK</td>\n      <td>Sabit</td>\n      <td>Yazılım Geliştirme</td>\n      <td>İstanbul</td>\n      <td>02 Mayıs 1979</td>\n      <td>11331</td>\n      <td>2128804662</td>\n      <td>mahmut.çevik@yandex.com</td>\n    </tr>\n    <tr>\n      <th>2</th>\n      <td>MANSUR</td>\n      <td>ERKURAN</td>\n      <td>Vodafone</td>\n      <td>Yazılım Geliştirme</td>\n      <td>Ankara</td>\n      <td>02 Kasım 1979</td>\n      <td>11679</td>\n      <td>5488439920</td>\n      <td>mansur.erkuran@gmail.com</td>\n    </tr>\n    <tr>\n      <th>3</th>\n      <td>GAMZE</td>\n      <td>TÜTEN</td>\n      <td>Vodafone</td>\n      <td>Yazılım Geliştirme</td>\n      <td>Bursa</td>\n      <td>03 Şubat 1987</td>\n      <td>5206</td>\n      <td>5427560798</td>\n      <td>tütengamze@hotmail.com</td>\n    </tr>\n    <tr>\n      <th>4</th>\n      <td>MİRAÇ</td>\n      <td>ÖZTÜRK</td>\n      <td>Türk Telekom</td>\n      <td>Yazılım Geliştirme</td>\n      <td>İstanbul</td>\n      <td>22 Ekim 1987</td>\n      <td>8670</td>\n      <td>5544899572</td>\n      <td>öztürk.miraç@yandex.com</td>\n    </tr>\n    <tr>\n      <th>...</th>\n      <td>...</td>\n      <td>...</td>\n      <td>...</td>\n      <td>...</td>\n      <td>...</td>\n      <td>...</td>\n      <td>...</td>\n      <td>...</td>\n      <td>...</td>\n    </tr>\n    <tr>\n      <th>2440</th>\n      <td>YILMAZ</td>\n      <td>YAZICI</td>\n      <td>Vodafone</td>\n      <td>Yazılım Geliştirme</td>\n      <td>Kocaeli</td>\n      <td>09 Aralık 1975</td>\n      <td>12593</td>\n      <td>5443005679</td>\n      <td>yilmaz.yazici@yahoo.com</td>\n    </tr>\n    <tr>\n      <th>2441</th>\n      <td>ZEYNEP</td>\n      <td>DOĞANGÜZEL</td>\n      <td>Türk Telekom</td>\n      <td>Yazılım Geliştirme</td>\n      <td>İstanbul</td>\n      <td>22 Mayıs 1986</td>\n      <td>6021</td>\n      <td>5533689407</td>\n      <td>zeynep.doğangüzel@gmail.com</td>\n    </tr>\n    <tr>\n      <th>2442</th>\n      <td>CANER</td>\n      <td>AKKAYA</td>\n      <td>Türk Telekom</td>\n      <td>Yazılım Geliştirme</td>\n      <td>İstanbul</td>\n      <td>07 Kasım 1983</td>\n      <td>8716</td>\n      <td>5533969681</td>\n      <td>akkaya.caner@yandex.com</td>\n    </tr>\n    <tr>\n      <th>2443</th>\n      <td>VOLKAN</td>\n      <td>FEYZULLAHOĞLU</td>\n      <td>Türk Telekom</td>\n      <td>Yazılım Geliştirme</td>\n      <td>Bursa</td>\n      <td>09 Temmuz 1984</td>\n      <td>9408</td>\n      <td>5069462233</td>\n      <td>feyzullahoğlu.volkan@yahoo.com</td>\n    </tr>\n    <tr>\n      <th>2444</th>\n      <td>EMRE</td>\n      <td>ŞAHİN</td>\n      <td>Vodafone</td>\n      <td>Yazılım Geliştirme</td>\n      <td>İstanbul</td>\n      <td>16 Temmuz 1978</td>\n      <td>14493</td>\n      <td>5415697256</td>\n      <td>emre.şahin@yandex.com</td>\n    </tr>\n  </tbody>\n</table>\n<p>2445 rows × 9 columns</p>\n</div>"
     },
     "execution_count": 28,
     "metadata": {},
     "output_type": "execute_result"
    }
   ],
   "source": [
    "df.rename(columns={\"Maas\":\"maas\"})"
   ],
   "metadata": {
    "collapsed": false,
    "pycharm": {
     "name": "#%%\n"
    }
   }
  },
  {
   "cell_type": "code",
   "execution_count": 29,
   "outputs": [
    {
     "data": {
      "text/plain": "     Isimler     Soyisimler   TelefonTuru                    Departman  \\\n0        ALİ       KANDEMİR         Sabit  Müşteri İlişkileri ve Satış   \n1     MAHMUT          ÇEVİK         Sabit           Yazılım Geliştirme   \n2     MANSUR        ERKURAN      Vodafone           Yazılım Geliştirme   \n3      GAMZE          TÜTEN      Vodafone           Yazılım Geliştirme   \n4      MİRAÇ         ÖZTÜRK  Türk Telekom           Yazılım Geliştirme   \n...      ...            ...           ...                          ...   \n2440  YILMAZ         YAZICI      Vodafone           Yazılım Geliştirme   \n2441  ZEYNEP     DOĞANGÜZEL  Türk Telekom           Yazılım Geliştirme   \n2442   CANER         AKKAYA  Türk Telekom           Yazılım Geliştirme   \n2443  VOLKAN  FEYZULLAHOĞLU  Türk Telekom           Yazılım Geliştirme   \n2444    EMRE          ŞAHİN      Vodafone           Yazılım Geliştirme   \n\n         Sehir     DogumTarihi   Maas     Telefon  \\\n0      Kocaeli   22 Nisan 1985   9477  2625462003   \n1     İstanbul   02 Mayıs 1979  11331  2128804662   \n2       Ankara   02 Kasım 1979  11679  5488439920   \n3        Bursa   03 Şubat 1987   5206  5427560798   \n4     İstanbul    22 Ekim 1987   8670  5544899572   \n...        ...             ...    ...         ...   \n2440   Kocaeli  09 Aralık 1975  12593  5443005679   \n2441  İstanbul   22 Mayıs 1986   6021  5533689407   \n2442  İstanbul   07 Kasım 1983   8716  5533969681   \n2443     Bursa  09 Temmuz 1984   9408  5069462233   \n2444  İstanbul  16 Temmuz 1978  14493  5415697256   \n\n                                mail  \n0             kandemirali@yandex.com  \n1            mahmut.çevik@yandex.com  \n2           mansur.erkuran@gmail.com  \n3             tütengamze@hotmail.com  \n4            öztürk.miraç@yandex.com  \n...                              ...  \n2440         yilmaz.yazici@yahoo.com  \n2441     zeynep.doğangüzel@gmail.com  \n2442         akkaya.caner@yandex.com  \n2443  feyzullahoğlu.volkan@yahoo.com  \n2444           emre.şahin@yandex.com  \n\n[2445 rows x 9 columns]",
      "text/html": "<div>\n<style scoped>\n    .dataframe tbody tr th:only-of-type {\n        vertical-align: middle;\n    }\n\n    .dataframe tbody tr th {\n        vertical-align: top;\n    }\n\n    .dataframe thead th {\n        text-align: right;\n    }\n</style>\n<table border=\"1\" class=\"dataframe\">\n  <thead>\n    <tr style=\"text-align: right;\">\n      <th></th>\n      <th>Isimler</th>\n      <th>Soyisimler</th>\n      <th>TelefonTuru</th>\n      <th>Departman</th>\n      <th>Sehir</th>\n      <th>DogumTarihi</th>\n      <th>Maas</th>\n      <th>Telefon</th>\n      <th>mail</th>\n    </tr>\n  </thead>\n  <tbody>\n    <tr>\n      <th>0</th>\n      <td>ALİ</td>\n      <td>KANDEMİR</td>\n      <td>Sabit</td>\n      <td>Müşteri İlişkileri ve Satış</td>\n      <td>Kocaeli</td>\n      <td>22 Nisan 1985</td>\n      <td>9477</td>\n      <td>2625462003</td>\n      <td>kandemirali@yandex.com</td>\n    </tr>\n    <tr>\n      <th>1</th>\n      <td>MAHMUT</td>\n      <td>ÇEVİK</td>\n      <td>Sabit</td>\n      <td>Yazılım Geliştirme</td>\n      <td>İstanbul</td>\n      <td>02 Mayıs 1979</td>\n      <td>11331</td>\n      <td>2128804662</td>\n      <td>mahmut.çevik@yandex.com</td>\n    </tr>\n    <tr>\n      <th>2</th>\n      <td>MANSUR</td>\n      <td>ERKURAN</td>\n      <td>Vodafone</td>\n      <td>Yazılım Geliştirme</td>\n      <td>Ankara</td>\n      <td>02 Kasım 1979</td>\n      <td>11679</td>\n      <td>5488439920</td>\n      <td>mansur.erkuran@gmail.com</td>\n    </tr>\n    <tr>\n      <th>3</th>\n      <td>GAMZE</td>\n      <td>TÜTEN</td>\n      <td>Vodafone</td>\n      <td>Yazılım Geliştirme</td>\n      <td>Bursa</td>\n      <td>03 Şubat 1987</td>\n      <td>5206</td>\n      <td>5427560798</td>\n      <td>tütengamze@hotmail.com</td>\n    </tr>\n    <tr>\n      <th>4</th>\n      <td>MİRAÇ</td>\n      <td>ÖZTÜRK</td>\n      <td>Türk Telekom</td>\n      <td>Yazılım Geliştirme</td>\n      <td>İstanbul</td>\n      <td>22 Ekim 1987</td>\n      <td>8670</td>\n      <td>5544899572</td>\n      <td>öztürk.miraç@yandex.com</td>\n    </tr>\n    <tr>\n      <th>...</th>\n      <td>...</td>\n      <td>...</td>\n      <td>...</td>\n      <td>...</td>\n      <td>...</td>\n      <td>...</td>\n      <td>...</td>\n      <td>...</td>\n      <td>...</td>\n    </tr>\n    <tr>\n      <th>2440</th>\n      <td>YILMAZ</td>\n      <td>YAZICI</td>\n      <td>Vodafone</td>\n      <td>Yazılım Geliştirme</td>\n      <td>Kocaeli</td>\n      <td>09 Aralık 1975</td>\n      <td>12593</td>\n      <td>5443005679</td>\n      <td>yilmaz.yazici@yahoo.com</td>\n    </tr>\n    <tr>\n      <th>2441</th>\n      <td>ZEYNEP</td>\n      <td>DOĞANGÜZEL</td>\n      <td>Türk Telekom</td>\n      <td>Yazılım Geliştirme</td>\n      <td>İstanbul</td>\n      <td>22 Mayıs 1986</td>\n      <td>6021</td>\n      <td>5533689407</td>\n      <td>zeynep.doğangüzel@gmail.com</td>\n    </tr>\n    <tr>\n      <th>2442</th>\n      <td>CANER</td>\n      <td>AKKAYA</td>\n      <td>Türk Telekom</td>\n      <td>Yazılım Geliştirme</td>\n      <td>İstanbul</td>\n      <td>07 Kasım 1983</td>\n      <td>8716</td>\n      <td>5533969681</td>\n      <td>akkaya.caner@yandex.com</td>\n    </tr>\n    <tr>\n      <th>2443</th>\n      <td>VOLKAN</td>\n      <td>FEYZULLAHOĞLU</td>\n      <td>Türk Telekom</td>\n      <td>Yazılım Geliştirme</td>\n      <td>Bursa</td>\n      <td>09 Temmuz 1984</td>\n      <td>9408</td>\n      <td>5069462233</td>\n      <td>feyzullahoğlu.volkan@yahoo.com</td>\n    </tr>\n    <tr>\n      <th>2444</th>\n      <td>EMRE</td>\n      <td>ŞAHİN</td>\n      <td>Vodafone</td>\n      <td>Yazılım Geliştirme</td>\n      <td>İstanbul</td>\n      <td>16 Temmuz 1978</td>\n      <td>14493</td>\n      <td>5415697256</td>\n      <td>emre.şahin@yandex.com</td>\n    </tr>\n  </tbody>\n</table>\n<p>2445 rows × 9 columns</p>\n</div>"
     },
     "execution_count": 29,
     "metadata": {},
     "output_type": "execute_result"
    }
   ],
   "source": [
    "df.rename(columns={\"maas\":\"Maas\"})"
   ],
   "metadata": {
    "collapsed": false,
    "pycharm": {
     "name": "#%%\n"
    }
   }
  },
  {
   "cell_type": "code",
   "execution_count": 30,
   "outputs": [
    {
     "data": {
      "text/plain": "       Maas     Telefon\n0      9477  2625462003\n1     11331  2128804662\n2     11679  5488439920\n3      5206  5427560798\n4      8670  5544899572\n...     ...         ...\n2440  12593  5443005679\n2441   6021  5533689407\n2442   8716  5533969681\n2443   9408  5069462233\n2444  14493  5415697256\n\n[2445 rows x 2 columns]",
      "text/html": "<div>\n<style scoped>\n    .dataframe tbody tr th:only-of-type {\n        vertical-align: middle;\n    }\n\n    .dataframe tbody tr th {\n        vertical-align: top;\n    }\n\n    .dataframe thead th {\n        text-align: right;\n    }\n</style>\n<table border=\"1\" class=\"dataframe\">\n  <thead>\n    <tr style=\"text-align: right;\">\n      <th></th>\n      <th>Maas</th>\n      <th>Telefon</th>\n    </tr>\n  </thead>\n  <tbody>\n    <tr>\n      <th>0</th>\n      <td>9477</td>\n      <td>2625462003</td>\n    </tr>\n    <tr>\n      <th>1</th>\n      <td>11331</td>\n      <td>2128804662</td>\n    </tr>\n    <tr>\n      <th>2</th>\n      <td>11679</td>\n      <td>5488439920</td>\n    </tr>\n    <tr>\n      <th>3</th>\n      <td>5206</td>\n      <td>5427560798</td>\n    </tr>\n    <tr>\n      <th>4</th>\n      <td>8670</td>\n      <td>5544899572</td>\n    </tr>\n    <tr>\n      <th>...</th>\n      <td>...</td>\n      <td>...</td>\n    </tr>\n    <tr>\n      <th>2440</th>\n      <td>12593</td>\n      <td>5443005679</td>\n    </tr>\n    <tr>\n      <th>2441</th>\n      <td>6021</td>\n      <td>5533689407</td>\n    </tr>\n    <tr>\n      <th>2442</th>\n      <td>8716</td>\n      <td>5533969681</td>\n    </tr>\n    <tr>\n      <th>2443</th>\n      <td>9408</td>\n      <td>5069462233</td>\n    </tr>\n    <tr>\n      <th>2444</th>\n      <td>14493</td>\n      <td>5415697256</td>\n    </tr>\n  </tbody>\n</table>\n<p>2445 rows × 2 columns</p>\n</div>"
     },
     "execution_count": 30,
     "metadata": {},
     "output_type": "execute_result"
    }
   ],
   "source": [
    "df[[\"Maas\",\"Telefon\"]]\n",
    "\n"
   ],
   "metadata": {
    "collapsed": false,
    "pycharm": {
     "name": "#%%\n"
    }
   }
  },
  {
   "cell_type": "code",
   "execution_count": 32,
   "outputs": [],
   "source": [
    "#Toplam maaşı bul\n",
    "toplamMaas = 0\n",
    "for m in df.Maas:\n",
    "    toplamMaas += m\n"
   ],
   "metadata": {
    "collapsed": false,
    "pycharm": {
     "name": "#%%\n"
    }
   }
  },
  {
   "cell_type": "code",
   "execution_count": 33,
   "outputs": [
    {
     "data": {
      "text/plain": "19904721"
     },
     "execution_count": 33,
     "metadata": {},
     "output_type": "execute_result"
    }
   ],
   "source": [
    "toplamMaas"
   ],
   "metadata": {
    "collapsed": false,
    "pycharm": {
     "name": "#%%\n"
    }
   }
  },
  {
   "cell_type": "code",
   "execution_count": 35,
   "outputs": [
    {
     "data": {
      "text/plain": "19904721"
     },
     "execution_count": 35,
     "metadata": {},
     "output_type": "execute_result"
    }
   ],
   "source": [
    "df.Maas.sum()\n"
   ],
   "metadata": {
    "collapsed": false,
    "pycharm": {
     "name": "#%%\n"
    }
   }
  },
  {
   "cell_type": "code",
   "execution_count": 37,
   "outputs": [
    {
     "data": {
      "text/plain": "     Isimler     Soyisimler\n0        ALİ       KANDEMİR\n1     MAHMUT          ÇEVİK\n2     MANSUR        ERKURAN\n3      GAMZE          TÜTEN\n4      MİRAÇ         ÖZTÜRK\n...      ...            ...\n2440  YILMAZ         YAZICI\n2441  ZEYNEP     DOĞANGÜZEL\n2442   CANER         AKKAYA\n2443  VOLKAN  FEYZULLAHOĞLU\n2444    EMRE          ŞAHİN\n\n[2445 rows x 2 columns]",
      "text/html": "<div>\n<style scoped>\n    .dataframe tbody tr th:only-of-type {\n        vertical-align: middle;\n    }\n\n    .dataframe tbody tr th {\n        vertical-align: top;\n    }\n\n    .dataframe thead th {\n        text-align: right;\n    }\n</style>\n<table border=\"1\" class=\"dataframe\">\n  <thead>\n    <tr style=\"text-align: right;\">\n      <th></th>\n      <th>Isimler</th>\n      <th>Soyisimler</th>\n    </tr>\n  </thead>\n  <tbody>\n    <tr>\n      <th>0</th>\n      <td>ALİ</td>\n      <td>KANDEMİR</td>\n    </tr>\n    <tr>\n      <th>1</th>\n      <td>MAHMUT</td>\n      <td>ÇEVİK</td>\n    </tr>\n    <tr>\n      <th>2</th>\n      <td>MANSUR</td>\n      <td>ERKURAN</td>\n    </tr>\n    <tr>\n      <th>3</th>\n      <td>GAMZE</td>\n      <td>TÜTEN</td>\n    </tr>\n    <tr>\n      <th>4</th>\n      <td>MİRAÇ</td>\n      <td>ÖZTÜRK</td>\n    </tr>\n    <tr>\n      <th>...</th>\n      <td>...</td>\n      <td>...</td>\n    </tr>\n    <tr>\n      <th>2440</th>\n      <td>YILMAZ</td>\n      <td>YAZICI</td>\n    </tr>\n    <tr>\n      <th>2441</th>\n      <td>ZEYNEP</td>\n      <td>DOĞANGÜZEL</td>\n    </tr>\n    <tr>\n      <th>2442</th>\n      <td>CANER</td>\n      <td>AKKAYA</td>\n    </tr>\n    <tr>\n      <th>2443</th>\n      <td>VOLKAN</td>\n      <td>FEYZULLAHOĞLU</td>\n    </tr>\n    <tr>\n      <th>2444</th>\n      <td>EMRE</td>\n      <td>ŞAHİN</td>\n    </tr>\n  </tbody>\n</table>\n<p>2445 rows × 2 columns</p>\n</div>"
     },
     "execution_count": 37,
     "metadata": {},
     "output_type": "execute_result"
    }
   ],
   "source": [
    "kullanıcıDf = df[[\"Isimler\",\"Soyisimler\"]]\n",
    "kullanıcıDf\n",
    "\n",
    "\n"
   ],
   "metadata": {
    "collapsed": false,
    "pycharm": {
     "name": "#%%\n"
    }
   }
  },
  {
   "cell_type": "code",
   "execution_count": 40,
   "outputs": [
    {
     "data": {
      "text/plain": "0               ALİKANDEMİR\n1               MAHMUTÇEVİK\n2             MANSURERKURAN\n3                GAMZETÜTEN\n4               MİRAÇÖZTÜRK\n               ...         \n2440           YILMAZYAZICI\n2441       ZEYNEPDOĞANGÜZEL\n2442            CANERAKKAYA\n2443    VOLKANFEYZULLAHOĞLU\n2444              EMREŞAHİN\nLength: 2445, dtype: object"
     },
     "execution_count": 40,
     "metadata": {},
     "output_type": "execute_result"
    }
   ],
   "source": [
    "kullanıcıDf.sum(axis=\"columns\")\n"
   ],
   "metadata": {
    "collapsed": false,
    "pycharm": {
     "name": "#%%\n"
    }
   }
  },
  {
   "cell_type": "code",
   "execution_count": 43,
   "outputs": [],
   "source": [
    "kullaniciAdlari = []\n",
    "\n",
    "for i in range(0,2445):\n",
    "    kullaniciAdlari.append( (df.Isimler[i]+df.Soyisimler[i]))\n"
   ],
   "metadata": {
    "collapsed": false,
    "pycharm": {
     "name": "#%%\n"
    }
   }
  },
  {
   "cell_type": "code",
   "execution_count": 45,
   "outputs": [
    {
     "data": {
      "text/plain": "['ALİKANDEMİR',\n 'MAHMUTÇEVİK',\n 'MANSURERKURAN',\n 'GAMZETÜTEN',\n 'MİRAÇÖZTÜRK',\n 'YÜCELYÜZBAŞIOĞLU',\n 'KUBİLAYVURAL',\n 'HAYATİYÜCEL',\n 'BEDRİYESÖNMEZ',\n 'BİRSENERTEKİN',\n 'SERDALDEDE',\n 'BÜNYAMİNUYANIK',\n 'ÖZGÜRASLAN',\n 'FERDİAKBULUT',\n 'REYHANORHON',\n 'İLHANUZ',\n 'GÜLŞAHYAVUZ',\n 'NALANERDEM',\n 'SEMİHKULAÇ',\n 'ERGÜNKAYA',\n 'FATİHSELVİ',\n 'ŞENAYAKPINAR',\n 'SERKANABACIOĞLU',\n 'EMREÇAY',\n 'BAHATTİNIŞIK',\n 'IRAZCAÖZER',\n 'HATİCEÖZDEMİR',\n 'BARIŞÖZTÜRK',\n 'REZANTAHTACI',\n 'FATİHBÜYÜKCAM',\n 'FUATKULAKSIZ',\n 'GÖKHANAKSEL',\n 'ORHANEROĞLU',\n 'MEHMETKARAKUM',\n 'EVRENDAL',\n 'OKTAYÖCAL',\n 'HARUNAYHAN',\n 'YAVUZYİĞİT',\n 'PINARYARBİL',\n 'MEHMETCANACANKATAN',\n 'UMUTGÜMÜŞAY',\n 'MESUDEMURT',\n 'HÜSEYİNHALHALLI',\n 'HAŞİMULUÖZ',\n 'EYYUPŞEYHANLI',\n 'MUSTAFAÇALIŞKANTÜRK',\n 'MUSTAFAYILMAZ',\n 'UFUKSARAÇOĞLU',\n 'AHMETSEZER',\n 'MEDİHADOĞAN',\n 'HASANDEMİR',\n 'KAMİLKAYAYURT',\n 'NEBİSÜRÜM',\n 'ÖZCANYAVAŞİ',\n 'NAGİHANTURGUT',\n 'CERENŞEN',\n 'SERKANBARBAROS',\n 'HASANALDİNÇ',\n 'YUSUFTEKİN',\n 'ÇETİNGÜLŞAN',\n 'TARKANKÜFECİLER',\n 'MERALALMACIOĞLU',\n 'ERGÜNÇİLDİR',\n 'KENANTÜRKDOĞAN',\n 'URALKAYA',\n 'YAHYAÖNER',\n 'BENGÜŞELİMAN',\n 'FATİHYAMAN',\n 'DİLEKATİK',\n 'MEHMETYİĞİT',\n 'TUFANGİRAY',\n 'MEHMETYALÇINKAYA',\n 'TURGAYKILIÇ',\n 'GÜLDEHENŞENTÜRK',\n 'GÖKMENKARABAĞ',\n 'BÜLENTDEĞİRMENCİ',\n 'EROLBODUROĞLU',\n 'BAHRİYILDIZ',\n 'ÖZENGÜLER',\n 'SELMAERASLAN',\n 'TUĞSEMÜZER',\n 'TESLİMEPİŞİRGEN',\n 'GÜLÇİNADANIR',\n 'İSMAİLKOÇ',\n 'MURATKORKMAZ',\n 'EBRUYENİDOĞAN',\n 'TÜMAYAYDOĞAN',\n 'AHMETACARBULUT',\n 'EBRUERGE',\n 'HÜSEYİNERDOĞAN',\n 'BAŞAKÖĞÜT',\n 'AYŞEGÜLKUŞKU',\n 'EVRİMKUCUR',\n 'YASERPEKTAŞ',\n 'ÜLKÜKAYACAN',\n 'ÖZHANGÜLEN',\n 'UFUKDOĞAN',\n 'AKSELAYDIN',\n 'FULYAGÜLEN',\n 'BURCUCANDAN',\n 'TAYLANTEMEL',\n 'YILMAZYENİGÜN',\n 'ZEYNEPYILDIRIM',\n 'BAYRAMBEDER',\n 'GÜLAYAKINCI',\n 'RABİAÖZDEMİR',\n 'SEVDAONUK',\n 'SERHATAYDOĞAN',\n 'ENGİNYILMAZ',\n 'ASLIAKCAN',\n 'TUBASARAÇOĞLU',\n 'BARIŞCÖMERT',\n 'SEVGİTOPAL',\n 'KALENDERKARAHAN',\n 'HALİLŞAHİN',\n 'BİLGEÇETİN',\n 'FERDAYILMAZ',\n 'EZGİAYTAÇ',\n 'AYSUNYILDIZ',\n 'SEDAKİŞİ',\n 'ÖZLEMGÜNDÜZ',\n 'ÖZDENÖZKURT',\n 'KORAYAK',\n 'SENEMURFALI',\n 'ZEYNEPKARAMAN',\n 'EMELMEMETOĞLU',\n 'BATURAYKAZBEK',\n 'NURAYKİREÇÇİ',\n 'AYDOĞANAKIN',\n 'ÖZLEMYADİGAROĞLU',\n 'DENİZYÜKSEL',\n 'İLKNURÖZÇELİK',\n 'TEVFİKBABUŞ',\n 'HASANKAPLAN',\n 'KÜRŞATAKÖZ',\n 'SEYFİKARTAL',\n 'ŞEYMABİLGİÇ',\n 'ÖZLEMERDEN',\n 'ERSAGUNTUĞCUGİL',\n 'DİLBERKUMRAL',\n 'MESUTERBAŞ',\n 'ELİFORAL',\n 'MUHAMMETKILAÇ',\n 'ÖZGÜRCENGİZ',\n 'MEHMETYILDIRIM',\n 'MAHPERİKUTLUCAN',\n 'ONURBALABAN',\n 'İBRAHİMKAYA',\n 'FATİHBALCI',\n 'SEVİLTÜFEKÇİ',\n 'SÜHEYLAATAY',\n 'VOLKANYARAR',\n 'İLKAYSEVER',\n 'İLKNURYILDIRIM',\n 'ZÜMRÜTARSLAN',\n 'HALEARKAN',\n 'YENERTUTAŞ',\n 'SEDEFÖZTÜRK',\n 'FADILHAVAS',\n 'SERPİLSEÇİR',\n 'ZÜLFİYEYILDIZ',\n 'SULTANSOYKAMER',\n 'MUAMMERBEKTAŞ',\n 'DERVİŞBERK',\n 'YAŞARGÜL',\n 'TUBAGEDİK',\n 'MEHRİCENGİZ',\n 'MUSTAFAÇOLAK',\n 'SERDARBULUT',\n 'MUSTAFASARI',\n 'ONATAKYOL',\n 'ŞÜKRÜBAĞCIK',\n 'OLCAYKUTLUYURDU',\n 'SERDARDEMİRGAN',\n 'YILDIZYİĞİT',\n 'AYDINGERİLMEZ',\n 'ALİDÜZKALIR',\n 'NİHATKÖKSOY',\n 'İSMAİLGÜLŞEN',\n 'AYKANAKAR',\n 'SELÇUKÖZDOĞAN',\n 'MEHMETTÖNGE',\n 'NEZİHYASA',\n 'MUSTAFAÖNVERMEZ',\n 'TİMURYILDIRIM',\n 'ERHANBİÇER',\n 'MUSTAFAKARADEMİR',\n 'MUTLUALIMLI',\n 'MEHMETAKGÜL',\n 'İSMAİLHANCIOĞLU',\n 'OSMANBATÇIK',\n 'MEHMETOLPAK',\n 'ELİFBOLAT',\n 'SERKANARSLAN',\n 'MESUTSİĞA',\n 'MEHMETMERCAN',\n 'ASUDANBOZKURTER',\n 'AHMETGÜLER',\n 'BAŞAKERGİNEL',\n 'CEYHANŞAHİN',\n 'MUHAMMETKADAK',\n 'ESİNGÜNEY',\n 'ZEYNEPGAYRETLİ',\n 'EVRİMHEPKAYA',\n 'YASİNBAYRAM',\n 'SALİHAKANIK',\n 'DENİZKULAK',\n 'BELGİNAKCAN',\n 'ÖZLEMESER',\n 'GONCAKILIÇ',\n 'ESRAGİDER',\n 'SEÇKİNKURT',\n 'ESRAELLİALTI',\n 'FATİHDEMİRTAŞ',\n 'MUSTAFAARGA',\n 'FEVZİYEBAŞKAN',\n 'MUSTAFAALUÇLU',\n 'BİRGÜLMUTLU',\n 'ÖZLEMŞATIR',\n 'ÖZLEMENGİZ',\n 'FUNDAÇİPE',\n 'BERFİNUYSAL',\n 'DEMETBAŞER',\n 'SONAYARSLAN',\n 'SERÇİNGÖZKAYA',\n 'ALMALAULUTAŞ',\n 'ÜMİTPİRİM',\n 'SENEMÜSTÜN',\n 'DENİZKIZMAZOĞLU',\n 'MÜNEVERULUBA',\n 'HATİCEARSLAN',\n 'ÖZLEMKARAOĞLU',\n 'ÖZLEMÖZSOY',\n 'ALİYALÇIN',\n 'COŞKUNSAF',\n 'ÖZGEVURAL',\n 'ZELİHADEMİRTAŞ',\n 'PINARGENÇPINAR',\n 'AYBÜKEAKASLAN',\n 'HASİBEUYĞUN',\n 'GÜRKANATAY',\n 'ZÜHALÖNDER',\n 'NAZIMBAYMAK',\n 'ZEYNEPATAY',\n 'OSMANGÜVENÇ',\n 'AYLAAKCA',\n 'BEYZAÖZCAN',\n 'ELİFERDEM',\n 'ERAYBAŞMAN',\n 'DİANAYANNİ',\n 'TUBAÜNAL',\n 'SEMRAGÜNDOĞDU',\n 'VELATÇELİK',\n 'BELGİNUSTA',\n 'SİBELTANRIVERDİ',\n 'GÖKMENTAŞKIN',\n 'BENHURÇETİN',\n 'DİLEKYILMAZ',\n 'HANDEGAZETECİ',\n 'ŞAHABETTİNSARİ',\n 'MİRAYKARAKOYUN',\n 'ZERRİNKARAKUŞ',\n 'İLKNUREKİCİ',\n 'ELİFAYDINER',\n 'MÜMTAZAKTAŞ',\n 'TUĞBABELGEMEN',\n 'DİLEKÇETİN',\n 'MEHMETOFLAZ',\n 'FUATBUĞRUL',\n 'NİHALBAYSOY',\n 'AYŞEGÜLBÜKÜLMEZ',\n 'SEMAYILMAZ',\n 'ZAFERBIÇAKÇI',\n 'NURSELKARA',\n 'GÜLPERİTİMURTAŞ',\n 'BİLGEATEŞ',\n 'FATİHBİNBOĞA',\n 'CENGİZKIZILTEPE',\n 'SİMGEKAYA',\n 'SEMAABSEYİ',\n 'EMİNEAMİROVA',\n 'RİFATÖZTÜRK',\n 'SİNANTAŞ',\n 'LATİFECEYLAN',\n 'MEHMETKILIÇ',\n 'NURDANEROL',\n 'MELTEMTAYFUN',\n 'ÜLKÜHANKAYA',\n 'HASANKARAKURT',\n 'GÜLDENBUDUNOĞLU',\n 'SAMETÖZER',\n 'BERNASAYGIN',\n 'ÖZLEMERYAVUZ',\n 'NAFİYEPOLAT',\n 'KENANYILMAZ',\n 'SERKANÇELİK',\n 'NURSELÜNSAL',\n 'ABDULLAHALPINAR',\n 'ERGÜLCİNDEMİR',\n 'HASANAKDUMAN',\n 'MUSTAFAUYAR',\n 'SEBAHATTÜLPAR',\n 'EMİNEAZAK',\n 'ERDALEREN',\n 'LEZİZGÖZCÜ',\n 'BİRSENBAYSAL',\n 'TUBATUNCEL',\n 'AYŞENÇETEMEN',\n 'EBRUYILMAZ',\n 'TAYFURGİNİŞ',\n 'MELTEMUZUN',\n 'SERHATNASIROĞLU',\n 'AYCANSEZGİN',\n 'ELİFÖZTÜRK',\n 'SEVGÜLYILDIRIM',\n 'SELDAUZUN',\n 'IŞILBULUR',\n 'SİBELDUYSAK',\n 'JÜLİDEYENİN',\n 'BERİLDEMİREL',\n 'İNCİSAK',\n 'ENGİNKOCABAŞ',\n 'GÜLBAHARSARAÇ',\n 'MÜBECCELALKURT',\n 'NURDANYURT',\n 'HANDEİLKAY',\n 'ÖZNURTAVŞAN',\n 'HANDANALAY',\n 'OSMANERTEM',\n 'EMİNÖZEL',\n 'NEJDETGENÇ',\n 'MUSTAFAUĞUZ',\n 'GÜLİZEVİK',\n 'İPEKGENÇ',\n 'NİHALEKER',\n 'MELDAÇİMEN',\n 'DERYAÇIRAKOĞLU',\n 'DEMETDEMİR',\n 'MAHMUTALPAYCI',\n 'EMELAK',\n 'ÖZNURÇELİK',\n 'SONGÜLERCAN',\n 'RESAALTUN',\n 'GAMZEKILIÇ',\n 'ÜMİTSARP',\n 'DENİZSÖKER',\n 'MUAMMERKÖSE',\n 'ÖMERBARÇAK',\n 'TUĞÇEÖZEKLİ',\n 'VELİBOLAÇ',\n 'ZAHİDEASLANALP',\n 'NURETTİNÖRNEK',\n 'SEDATAKDOĞAN',\n 'REMZİYEÖZÇELİK',\n 'SİBELERTÜRKLER',\n 'İLKNURSARAL',\n 'YASEMİNÖZKAN',\n 'AYLİNDEMİRHAN',\n 'EMELASLANKARA',\n 'EMELEMLAKÇIOĞLU',\n 'ŞAFAKÖZTÜRK',\n 'METİNESER',\n 'SÜLEYMANÖDEN',\n 'MUKADDESDEMİRAY',\n 'BARIŞAYHAN',\n 'MEHMETYAĞCI',\n 'TEVFİKAVCI',\n 'SERDARBAYGELDİ',\n 'EMİNEBÜKÜM',\n 'MÜRŞİTDİNCER',\n 'MUTLUDOĞAN',\n 'FEZAEKİZ',\n 'İBRAHİMŞAHİNER',\n 'SERKANŞENGÜL',\n 'AHMETİLGÜN',\n 'FATMAAŞIK',\n 'BERKERÖZKAN',\n 'SERDARŞİRZAİ',\n 'KUBİLAYÖCALAN',\n 'ERKANKABA',\n 'KERİMTÜLÜCE',\n 'İLKNURAYTEKİN',\n 'SERKANKAYA',\n 'MUSTAFADÜGER',\n 'RUKİYEMETİNEREN',\n 'GÖKTENBULUT',\n 'SEZGİŞAHİN',\n 'TUĞBAÇETİN',\n 'MURATBÖLÜK',\n 'HATİCEGÖZAÇAN',\n 'HATİCEBOZKURT',\n 'AYŞEÖNEY',\n 'NEVİNAY',\n 'HABİBEKÖYLÜ',\n 'KEZBANÖZMEN',\n 'AYSELTALAN',\n 'TALHADUMLU',\n 'DUYGUZORLU',\n 'GÖZDEKÖYCÜ',\n 'FIRATUYGUR',\n 'EBRUKABACAOĞLU',\n 'GÜLENTOPALOĞLU',\n 'SİBELAYIK',\n 'FULYADEMİR',\n 'VEDATERDEM',\n 'HARUNKARAMANLI',\n 'FİLİZSADİ',\n 'NURAYOKTAY',\n 'ŞİRİNYURTLU',\n 'ÖZLEMSALMAN',\n 'BURCUCİRİT',\n 'PINARSORGUN',\n 'HATUNNURÇİN',\n 'CEYDABAŞKAN',\n 'BURCUKAZANCI',\n 'AYŞEKIYAK',\n 'ALPERMETE',\n 'FEYZAUZUN',\n 'HACISAĞDIK',\n 'MÜCELLAARIKAN',\n 'FEYZAHANEKİCİ',\n 'ŞENAYKESİM',\n 'MERİHGÜL',\n 'YUSUFYILDIRIM',\n 'ARDAKARAGÖZ',\n 'EVREPEKEL',\n 'KONURALPYAKAR',\n 'KIVANÇTARLAN',\n 'EMİNEÇATAK',\n 'VOLKANÇETİNKOR',\n 'NİHATSAYIN',\n 'RENGİNKURT',\n 'EMREGÜMÜŞ',\n 'ARİFEKOCAKAYA',\n 'SEDATÖZMEN',\n 'MURATGÜNAY',\n 'CEMDÜZ',\n 'ERHANDİLEK',\n 'ÖMÜRDEMİRTAŞ',\n 'UMUTKURTULUŞ',\n 'MUSTAFAKARPUZOĞLU',\n 'DAMLAERGİNTÜRK',\n 'MÜSLİMBEYOĞLU',\n 'ABDULKADİRSULHAN',\n 'SAADETARSLAN',\n 'REZZANNUHVEREN',\n 'SEDATAVCIOĞLU',\n 'İBRAHİMAHISKALI',\n 'LEYLAASENA',\n 'TÜLAYKARACAN',\n 'ENDERGÖLEMEZ',\n 'YELİZYILDIRIM',\n 'ÖZGÜLTOHUMOĞLU',\n 'HALEÇELİK',\n 'BERÇEMBOZARSLAN',\n 'MUSTAFAKÖŞKER',\n 'TUBAÇELİK',\n 'SABAHATTİNSÜL',\n 'ŞAFAKKORKMAZ',\n 'EVRİMTARKAN',\n 'REŞATDUMAN',\n 'MUMUNHODJAOGLU',\n 'FUNDABALLI',\n 'NURŞATIROĞLU',\n 'METEÖNDE',\n 'TÜLAYLAĞARLI',\n 'ÖZLEMÖZÇAY',\n 'HATİCEARSLAN',\n 'MELTEMAKDEMİR',\n 'EDAİÇBAY',\n 'MELTEMAKIN',\n 'MUSTAFADEMİRÖZ',\n 'YURDUNKUYUCU',\n 'SEMASELÇUK',\n 'TUBAİNCE',\n 'SERPİLERGÜLÜ',\n 'CENKGÖKALP',\n 'TANERBABACAN',\n 'ZEKERİYAÜLGER',\n 'MUHAMMEDAYVAZ',\n 'TUĞRULELVERDİ',\n 'YÜCELAYDIN',\n 'ESMADEMİREL',\n 'AHMETCİMBEK',\n 'SEVDEFIRAT',\n 'SAMİBAHÇEBAŞI',\n 'GAMZEDAM',\n 'GÜLSÜMKÖROĞLU',\n 'SERHATÖZÇELİK',\n 'BARIŞKARACA',\n 'GÜLSERENSEVEN',\n 'SULTANÖZKURT',\n 'İLKERALTUN',\n 'DERAMBÜYÜKTAŞ',\n 'AHMETSERTKAYA',\n 'BALAÖVEN',\n 'FEVZİYALNIZ',\n 'GÖZDESAVAŞ',\n 'FERHANYILMAZ',\n 'İLKERYALÇIN',\n 'SALİMBEREKET',\n 'EMİNEKAYA',\n 'MURATPEKGÖZ',\n 'ATAKANDEMİR',\n 'REFİKOLMAZ',\n 'MUSTAFASEVİNÇ',\n 'ÖZGÜRMERHAMETSİZ',\n 'İKLİLÇOBANOĞLU',\n 'ZÜHALŞİMŞEK',\n 'MEHTAPBİNNETOĞLU',\n 'DENİZÖĞÜTMEN',\n 'ÜMİTÇINKIR',\n 'MEHMETCAMCI',\n 'VOLKANYAZAK',\n 'İLKNURNİZAM',\n 'SELÇUKTÜRKOĞLU',\n 'ÖZLEMDEMİRKOL',\n 'GÖKHANAKSAKAL',\n 'METEAKIN',\n 'HÜMEYRABOZOĞLAN',\n 'PAPATYADEĞİRMENCİ',\n 'LEVENTAYMAN',\n 'FADİMESAÇLI',\n 'ERSENKARAKILIÇ',\n 'ŞULEBAKANAY',\n 'MELİAKARAKÖSE',\n 'ŞERMİNGÜVEN',\n 'AYLİAYEŞİLOVA',\n 'AHMETEŞKAZAN',\n 'VEDATGERDAN',\n 'HALUKMUMCUOĞLU',\n 'SEZGİNVATANSEVER',\n 'ZEHRAPAKÖZ',\n 'VOLKANATMIŞ',\n 'ÜNSALAKÇALI',\n 'KORAYFAKIOĞLU',\n 'GÜLŞAHYENİDÜNYA',\n 'HİCRANANIK',\n 'YUSUFKÖSEOĞLU',\n 'YUSUFSONAY',\n 'ORHANÇELİKER',\n 'FÜSUNÖZDEMİRKIRAN',\n 'ÖZLEMÇELİK',\n 'MEHMETKÖSE',\n 'SERKANAKIN',\n 'İKRAMDURÇ',\n 'ÜLKÜHANİNER',\n 'NUHBEREKATOĞLU',\n 'İSMAİLDİLLİ',\n 'GÜLŞAHELBÜKEN',\n 'AYKUTBAHÇECİ',\n 'NEŞEBÜLBÜL',\n 'NEZAKETKADI',\n 'MUHAMMETIŞIK',\n 'HANDANYÜCETÜRK',\n 'ATİLLABULUR',\n 'AYŞEGÜLÖZİŞ',\n 'PINARULUBAŞOĞLU',\n 'ARZUAKŞAHİN',\n 'NEŞEKARPUZ',\n 'CEYHANYABUL',\n 'HASANGÖKSOY',\n 'MEHMETÜNAL',\n 'SALİHIŞIK',\n 'FERDAKÖKSAL',\n 'DİLEKTEKİŞ',\n 'AYHANAKSOY',\n 'HASANBAŞYURT',\n 'SUNAYURDSEVEN',\n 'SELAMİERDEM',\n 'SÜREYYAMERDEN',\n 'BURCUKISA',\n 'CEMSANHAL',\n 'ÇAĞDAŞŞAHİN',\n 'DOĞANVATANSEVER',\n 'AHMETBİLGİ',\n 'HATİCEKAYABAŞ',\n 'HAYRİGÜRBOSTAN',\n 'GÜHERBOLAT',\n 'SUNAKABİL',\n 'ARZUDEĞİRMENCİ',\n 'AHMETTAYYAR',\n 'AHMETŞAHBAZ',\n 'SEMİHYANCAR',\n 'YUSUFOLGAÇ',\n 'ALİEKİZ',\n 'ELİFEREN',\n 'ELİFMALÇOK',\n 'YETKİNKARASU',\n 'BURAKKARADAĞ',\n 'VEYSELTOPRAK',\n 'BURCUSAĞLAM',\n 'REFAETTİNŞAHİN',\n 'AYŞEKEBAPCILAR',\n 'HÜSEYİNTATAR',\n 'EMİNEARSLAN',\n 'EBRUYÜCE',\n 'ESRATOLA',\n 'SAMİGÜNGÖR',\n 'MUSTAFAKARAGÖZ',\n 'ORHANALTINBOĞA',\n 'HAÇÇEYENİÇERİ',\n 'MEHMETIŞIKALAN',\n 'NAZANÖZDEMİR',\n 'TUĞBAGÜRBÜZ',\n 'OĞUZHANKURU',\n 'BERFİNYURDAM',\n 'ÖZGÜRKARA',\n 'CİHANÇETİN',\n 'DERMANBAŞARAN',\n 'NİHALŞAHİN',\n 'IŞINÜREYEN',\n 'HATİCEIŞIK',\n 'DİDEMÖZTÜRK',\n 'SUATDOĞAN',\n 'SİMENDERMESCİ',\n 'ADNANORHAN',\n 'SEZİNVURAL',\n 'ŞERAFETTİNEROL',\n 'BERRİNBALSAK',\n 'ÖZGÜRÖZDEMİR',\n 'TAYFURÇİFT',\n 'SERHATŞEN',\n 'FUNDAYAZICI',\n 'NESLİHANBAYRAMOĞLU',\n 'SERVETGENÇDAL',\n 'EMREDESTEGÜL',\n 'ORÇUNÖZDEMİR',\n 'FATMAKARÇİN',\n 'DERYAASLAN',\n 'DUYGUBAZ',\n 'HÜSEYİNALTUNTAŞ',\n 'AYKUTÖZCAN',\n 'AYŞEKIRBAŞ',\n 'SEHERYILMAZ',\n 'SEDAKAYMAN',\n 'ESRAÇETİN',\n 'EVRENYEŞİLDAĞER',\n 'NİLÜFERYÜKSEL',\n 'MURATKAYAOĞLU',\n 'YUSUFKILIÇ',\n 'MUSTAFACELTEMEN',\n 'GÜNEŞGÜNDÜZ',\n 'FATİHŞANLIKAN',\n 'MEHMETÇELİK',\n 'ORHANORHAN',\n 'PINARTANTEKİN',\n 'ERHANKARAALP',\n 'GÜLDENTUNCER',\n 'LATİFEATASOY',\n 'SİBELDOĞAN',\n 'FATMAGÖK',\n 'HALİSÖZDEMİR',\n 'YELDAÖZKAN',\n 'ZEHRAONAR',\n 'MEHMETASOĞLU',\n 'EMCEDKHALİL',\n 'OKANYURDAKÖK',\n 'ABDULLAHYILMAZ',\n 'ÖZLEMKESKİN',\n 'AYDEMİRKOÇARSLAN',\n 'FATİHGÖKALP',\n 'AYDINTUNÇAY',\n 'BENGÜHANSÜRMEN',\n 'AHMETAYDIN',\n 'TOLUNAYSEVİNGİL',\n 'TUĞRAGENÇPINAR',\n 'ÖZGÜRAKKAYA',\n 'YUSUFKUSERLİ',\n 'ÖNDERBOZKURT',\n 'BARANŞİMŞEK',\n 'SEYHANYILMAZ',\n 'ZEKİTALAS',\n 'KADİRÇEVİKER',\n 'MURATKAYNAK',\n 'İHSANBAYRAKTAR',\n 'DEMİRÇETİNTAŞ',\n 'MUHAMMETCANTÜRK',\n 'MUHAMMEDKARADENİZ',\n 'BAHADIRALAN',\n 'İLHANKOYUNCU',\n 'YILDIRIMKARTAL',\n 'OĞUZKAYA',\n 'EFTALBAKIRCI',\n 'GÖKAYNAR',\n 'FATİHULUSOY',\n 'NURANCELİLOĞLU',\n 'HABİLYÜCEL',\n 'ÖMERDUMAN',\n 'SELMAAKDENİZ',\n 'NURETTİNYERAL',\n 'AHMETGÜRDAL',\n 'UTKUKÜTÜK',\n 'SÜLEYMANKANYILMAZ',\n 'CANÖZBEK',\n 'ONURUYSAL',\n 'FİLİZAKIN',\n 'CANSUAKDENİZ',\n 'ABDULLAHKAPLAN',\n 'NESLİHANALBAYRAK',\n 'SEDAYILDIRIM',\n 'KÜBRAMÜEZZİNOĞLU',\n 'HÜSEYİNAYHAN',\n 'BELMAUYGUR',\n 'MÜCAHİTTÜFENK',\n 'CEYHUNYÜCEL',\n 'GÜLTEKİNDEMİR',\n 'HANDEÖZDEMİR',\n 'GÜLHANIMKIRIŞ',\n 'ÖMERKIRASLAN',\n 'ZİYASALTÜRK',\n 'ÇAĞRIAÇIKGÖZ',\n 'SERKANYAĞCI',\n 'LEVENTSEVÜK',\n 'İSAKAYA',\n 'CEMDOĞAN',\n 'HÜSEYİNYILDIZ',\n 'CEMİLEBAYTAN',\n 'MAHMUTDEMİRTAŞ',\n 'ÖNDERMUTLU',\n 'RAŞANGENÇ',\n 'İSMAİLAKTUĞ',\n 'ÖMERSERİN',\n 'KENANTUNCAY',\n 'EMREGÜNBEY',\n 'SERDARKAYA',\n 'SONERTAŞAR',\n 'ENVERAVSEREN',\n 'MUHLİSBAL',\n 'TİMURBATMAZ',\n 'LEMANVEZİROĞLU',\n 'ELAARAZ',\n 'CEMİLGÜLER',\n 'BURCUDALYAN',\n 'SALİHAKARADAĞ',\n 'ZELİHABAŞTÜRK',\n 'ALEVTİNAERSOY',\n 'ARZUTAY',\n 'MEHMETERYILMAZ',\n 'BİREYLÜLDEMİR',\n 'AYSELAYDIN',\n 'ÖZGÜLOCAK',\n 'SIDIKABÖLÜK',\n 'TUNAÖZMEN',\n 'ÖVGÜÖZTÜRKERİ',\n 'EMİŞEKEN',\n 'NİLGÜNAKGÜL',\n 'ELİFSARICA',\n 'SEBİHACANSEVER',\n 'YUSUFAKIN',\n 'IŞILGÜZEL',\n 'AYŞEGÜLÖZER',\n 'TÜMAYÇAKIR',\n 'ZERİNAKSUN',\n 'MEHMETBALAL',\n 'FATMABAYAM',\n 'AHMETŞAİR',\n 'NEVROZÜNLÜ',\n 'SEMAYUMURTAŞ',\n 'GAMZEAKGÜL',\n 'FATMAAYKAN',\n 'MELTEMALPSAN',\n 'SELMACANATAN',\n 'İBRAHİMMUMCUOĞLU',\n 'ASLIHANTAŞKIRAN',\n 'FİLİZHATİPOĞLU',\n 'BİLGİAKYOL',\n 'TUĞBASUCAK',\n 'HÜSEYİNYILDIZ',\n 'EVRENAKPINAR',\n 'FERDİGÖKSEL',\n 'BURÇİNKARSLI',\n 'BARIŞÖZGÜROL',\n 'BAVERACAR',\n 'MAHMUTKALEM',\n 'EMRAHŞAHİN',\n 'MURATAYDIN',\n 'MEHMETDÖKMECİ',\n 'GÖKAYGÖRMELİ',\n 'NECİPÖZATEŞ',\n 'ERKANSERVET',\n 'ÜMİTTOPRAK',\n 'GANİMSÜNER',\n 'BARANSARIKAYA',\n 'FATİHSULUOVA',\n 'SANCARSERBEST',\n 'MUSTAFAEFE',\n 'DURANTOPAK',\n 'HASANATBİNİCİ',\n 'GÖRKEMKIYAK',\n 'ALİÇELİK',\n 'VELİÖZ',\n 'İRFANTEPE',\n 'SEYFİÖZÜAK',\n 'CÜNEYTÖNCEL',\n 'ALİCANBAZ',\n 'FIRATAL',\n 'MUHAMMEDDEMİR',\n 'BURAKGÜRER',\n 'MUSTAFAGÜNGÖR',\n 'NİZAMETTİNGÜZEL',\n 'RECEPGÖNCÜ',\n 'ARZUÖZDAMAR',\n 'MAHMUTKARATOPRAK',\n 'GÜNAYÇAVDAR',\n 'BESTEKARA',\n 'CEMÖZ',\n 'EMRAHSÖZEN',\n 'HALİLGÖKÇEK',\n 'ESENKARAKAYA',\n 'MELİKEGÜNGÖR',\n 'MÜRSELÇEPNİ',\n 'KORAYKIR',\n 'UMUTERSOY',\n 'İBRAHİMÇAĞLAR',\n 'BURHANÖZALP',\n 'MUSTAFAEVRENOS',\n 'SERDARBAYRAKTAROĞLU',\n 'FUATUSLUSOY',\n 'ELİFSARI',\n 'SİBELATALAY',\n 'ADEMTOPKARA',\n 'CEMBEKTAŞ',\n 'GÖKTEKİNTENEKECİ',\n 'DİLARAÇAĞIL',\n 'SEDAMERTOL',\n 'CUMHURTAŞ',\n 'HALUKHIDIROĞLU',\n 'PINARŞEN',\n 'AYKUTKARAHAN',\n 'ÖYKÜÖNAL',\n 'BAŞAKDEMİREL',\n 'ÖMERYACI',\n 'SERHANIŞIKLI',\n 'SULTANKILIÇ',\n 'MİNEÜLGEN',\n 'SUATKÜÇÜKGÖNCÜ',\n 'ÇİĞDEMSU',\n 'HANDEKOÇAR',\n 'UMUTBALOĞLU',\n 'EVRİMDUMAN',\n 'DİCLEASLAN',\n 'İREMSARICANBAZ',\n 'FATMASERT',\n 'İLKNURALTUN',\n 'CEMİLEGÖRMELİ',\n 'FEYZAYILMAZ',\n 'MUAMMERAKYOL',\n 'EBRUÖZAN',\n 'DİNÇERAKYILMAZ',\n 'AYŞEBAKAN',\n 'PINARKARAKAN',\n 'SÜREYYAGÖRKEM',\n 'MARİACILIZ',\n 'SEÇİLKARACAN',\n 'BARIŞTEN',\n 'ŞAHİNDEATLANOĞLU',\n 'MEHMETÖZTÜRK',\n 'NEVRİYETOPALOĞLU',\n 'NİLAYSOYDAN',\n 'RÜŞTÜTÜRKAY',\n 'ASLIMENTEŞ',\n 'TANSUPINARBAŞILI',\n 'ASLIHANONAY',\n 'NURCANCERİT',\n 'DEMETÜNAL',\n 'ERDEMALTUN',\n 'BETÜLYILDIZ',\n 'ÇETİNİMAMOĞLU',\n 'PINARÖZDEMİR',\n 'RASİMYANMAZ',\n 'AHMETBÜBER',\n 'ZEHRAAKKAYA',\n 'SELİMBAKAN',\n 'DENİZTAŞMALI',\n 'MESUTBULAKÇI',\n 'AYSELBAYRAM',\n 'MÜMÜNEAYDIN',\n 'DUÇEMGERGER',\n 'YAKUPYEŞİLKAYA',\n 'ERCANDÖNMEZ',\n 'MEHMETYILMABAŞAR',\n 'ATİLLADİKİCİ',\n 'MERALARİFOĞLU',\n 'NURDANFİDAN',\n 'SEÇİLSAKARYA',\n 'ELİFÖZEN',\n 'HASANONAN',\n 'NİLAYAKHUN',\n 'HİLALKIR',\n 'MUSTAFAŞAHİN',\n 'ŞEYMASU',\n 'MÜJDATYAZICI',\n 'BURCUGÜRDEMİR',\n 'ARİFALTINSOY',\n 'AYŞEKALYONCU',\n 'HACİŞAŞMAZ',\n 'IŞIKGÜLCAN',\n 'SERAYKURT',\n 'SERHATÖZTÜRK',\n 'EMİNULUTAŞ',\n 'ÇAVLANALTUNA',\n 'ŞEREFGÜREL',\n 'KADİRKARAKUŞ',\n 'MÜBERRAKILIÇ',\n 'AYŞEÖZKIRIŞ',\n 'HASANKAYA',\n 'SAVAŞYILMAZ',\n 'AYŞEİNCİ',\n 'SÜLEYMANDEMİR',\n 'DUYGUAKBAŞ',\n 'HACIEREN',\n 'MEHTAPBİCAN',\n 'ERKANAYDIN',\n 'SEMİNEÖZDOĞAN',\n 'ELİFATEŞ',\n 'RAMAZANKÖKSAL',\n 'AHMETSARGIN',\n 'SERKANAKKOYUNLU',\n 'DENİZŞİMŞEK',\n 'MİNEÖZTÜRK',\n 'FATİHKAYHAN',\n 'İREMTEZER',\n 'ENDERKARACAN',\n 'YASEMİNÇAKIR',\n 'SEMAUYSAL',\n 'MUSTAFAGÜRAKAN',\n 'ALİDOKUMACIOĞLU',\n 'EMİNEKIRHAN',\n 'TÜLAYÖZDEMİR',\n 'BİRSENKAYA',\n 'GÜLSENGÜL',\n 'TUBAESEN',\n 'HAYRİYEAK',\n 'BAHADIREKER',\n 'SEZENÖZAVCI',\n 'EDİPÇEKİÇ',\n 'MEHTAPSAVRAN',\n 'FİLİZGÖKALP',\n 'EYLEMGÖKMEYDAN',\n 'RAMAZANEMRE',\n 'BİLGİNKÜTÜKCÜ',\n 'ESRADİKOĞLU',\n 'ATİYEAKSOY',\n 'METİNGÖRENEKLİ',\n 'ÖZLEMKOCA',\n 'OSMANKILINÇ',\n 'AYŞEBATGİ',\n 'HİLALTÜRKMEN',\n 'YAVUZOKULU',\n 'ÖZLEMKİRİŞCİ',\n 'AYŞEDEDE',\n 'MUSTAFAKIZMAZ',\n 'ASUMANARGON',\n 'ÖMERALICI',\n 'ŞENAYARIKAN',\n 'GÜLNAMEFINDIK',\n 'ÖZLEMÜÇER',\n 'BETÜLÜNAL',\n 'EMİNEYILMAZ',\n 'ZELİHAÇETİN',\n 'ESİNERGÖZ',\n 'FİLİZFİLİZ',\n 'ULAŞALABALIK',\n 'HALEKIZANOĞLU',\n 'ADEMYAŞAR',\n 'İLKERÇELEN',\n 'ERHANDEMİRELLİ',\n 'FARUKDOĞAN',\n 'İBRAHİMDÖNMEZ',\n 'SERKANAKDEMİR',\n 'MAHMUTDANIŞOĞLU',\n 'ERAYGÜRSOY',\n 'OKTAYŞENER',\n 'DENİZABAT',\n 'OSMANERGÜN',\n 'İZZETÇİÇEKBİLEK',\n 'İHSANÜNÜŞ',\n 'URALOĞUZ',\n 'ARİFKOL',\n 'AZİZTOKER',\n 'FUATSU',\n 'HAKANPOLAT',\n 'MUZAFFERKELEŞ',\n 'MAHİRSEYREK',\n 'TAYYARÖZKAN',\n 'EREMASİL',\n 'CİHANTOKTAŞ',\n 'MEHMETARDIÇ',\n 'ÜMİTÖZDEMİR',\n 'MEHMETSÖZEN',\n 'YASEMİNÇOBANYILDIZI',\n 'CEYDAMÜFTÜOĞLU',\n 'FATIMAYEGEN',\n 'NİLAYAKSOY',\n 'HURİYEAKYOL',\n 'MERVEOFLAZ',\n 'ŞEYMAKARAOĞLANOĞLU',\n 'SELAHATTİNAYAS',\n 'İLKERKARKIN',\n ...]"
     },
     "execution_count": 45,
     "metadata": {},
     "output_type": "execute_result"
    }
   ],
   "source": [
    "kullaniciAdlari"
   ],
   "metadata": {
    "collapsed": false,
    "pycharm": {
     "name": "#%%\n"
    }
   }
  },
  {
   "cell_type": "code",
   "execution_count": 48,
   "outputs": [],
   "source": [
    "df[\"Kullanici Adi\"] = kullaniciAdlari"
   ],
   "metadata": {
    "collapsed": false,
    "pycharm": {
     "name": "#%%\n"
    }
   }
  },
  {
   "cell_type": "code",
   "execution_count": 49,
   "outputs": [
    {
     "data": {
      "text/plain": "     Isimler     Soyisimler   TelefonTuru                    Departman  \\\n0        ALİ       KANDEMİR         Sabit  Müşteri İlişkileri ve Satış   \n1     MAHMUT          ÇEVİK         Sabit           Yazılım Geliştirme   \n2     MANSUR        ERKURAN      Vodafone           Yazılım Geliştirme   \n3      GAMZE          TÜTEN      Vodafone           Yazılım Geliştirme   \n4      MİRAÇ         ÖZTÜRK  Türk Telekom           Yazılım Geliştirme   \n...      ...            ...           ...                          ...   \n2440  YILMAZ         YAZICI      Vodafone           Yazılım Geliştirme   \n2441  ZEYNEP     DOĞANGÜZEL  Türk Telekom           Yazılım Geliştirme   \n2442   CANER         AKKAYA  Türk Telekom           Yazılım Geliştirme   \n2443  VOLKAN  FEYZULLAHOĞLU  Türk Telekom           Yazılım Geliştirme   \n2444    EMRE          ŞAHİN      Vodafone           Yazılım Geliştirme   \n\n         Sehir     DogumTarihi   Maas     Telefon  \\\n0      Kocaeli   22 Nisan 1985   9477  2625462003   \n1     İstanbul   02 Mayıs 1979  11331  2128804662   \n2       Ankara   02 Kasım 1979  11679  5488439920   \n3        Bursa   03 Şubat 1987   5206  5427560798   \n4     İstanbul    22 Ekim 1987   8670  5544899572   \n...        ...             ...    ...         ...   \n2440   Kocaeli  09 Aralık 1975  12593  5443005679   \n2441  İstanbul   22 Mayıs 1986   6021  5533689407   \n2442  İstanbul   07 Kasım 1983   8716  5533969681   \n2443     Bursa  09 Temmuz 1984   9408  5069462233   \n2444  İstanbul  16 Temmuz 1978  14493  5415697256   \n\n                                mail        Kullanici Adi  \n0             kandemirali@yandex.com          ALİKANDEMİR  \n1            mahmut.çevik@yandex.com          MAHMUTÇEVİK  \n2           mansur.erkuran@gmail.com        MANSURERKURAN  \n3             tütengamze@hotmail.com           GAMZETÜTEN  \n4            öztürk.miraç@yandex.com          MİRAÇÖZTÜRK  \n...                              ...                  ...  \n2440         yilmaz.yazici@yahoo.com         YILMAZYAZICI  \n2441     zeynep.doğangüzel@gmail.com     ZEYNEPDOĞANGÜZEL  \n2442         akkaya.caner@yandex.com          CANERAKKAYA  \n2443  feyzullahoğlu.volkan@yahoo.com  VOLKANFEYZULLAHOĞLU  \n2444           emre.şahin@yandex.com            EMREŞAHİN  \n\n[2445 rows x 10 columns]",
      "text/html": "<div>\n<style scoped>\n    .dataframe tbody tr th:only-of-type {\n        vertical-align: middle;\n    }\n\n    .dataframe tbody tr th {\n        vertical-align: top;\n    }\n\n    .dataframe thead th {\n        text-align: right;\n    }\n</style>\n<table border=\"1\" class=\"dataframe\">\n  <thead>\n    <tr style=\"text-align: right;\">\n      <th></th>\n      <th>Isimler</th>\n      <th>Soyisimler</th>\n      <th>TelefonTuru</th>\n      <th>Departman</th>\n      <th>Sehir</th>\n      <th>DogumTarihi</th>\n      <th>Maas</th>\n      <th>Telefon</th>\n      <th>mail</th>\n      <th>Kullanici Adi</th>\n    </tr>\n  </thead>\n  <tbody>\n    <tr>\n      <th>0</th>\n      <td>ALİ</td>\n      <td>KANDEMİR</td>\n      <td>Sabit</td>\n      <td>Müşteri İlişkileri ve Satış</td>\n      <td>Kocaeli</td>\n      <td>22 Nisan 1985</td>\n      <td>9477</td>\n      <td>2625462003</td>\n      <td>kandemirali@yandex.com</td>\n      <td>ALİKANDEMİR</td>\n    </tr>\n    <tr>\n      <th>1</th>\n      <td>MAHMUT</td>\n      <td>ÇEVİK</td>\n      <td>Sabit</td>\n      <td>Yazılım Geliştirme</td>\n      <td>İstanbul</td>\n      <td>02 Mayıs 1979</td>\n      <td>11331</td>\n      <td>2128804662</td>\n      <td>mahmut.çevik@yandex.com</td>\n      <td>MAHMUTÇEVİK</td>\n    </tr>\n    <tr>\n      <th>2</th>\n      <td>MANSUR</td>\n      <td>ERKURAN</td>\n      <td>Vodafone</td>\n      <td>Yazılım Geliştirme</td>\n      <td>Ankara</td>\n      <td>02 Kasım 1979</td>\n      <td>11679</td>\n      <td>5488439920</td>\n      <td>mansur.erkuran@gmail.com</td>\n      <td>MANSURERKURAN</td>\n    </tr>\n    <tr>\n      <th>3</th>\n      <td>GAMZE</td>\n      <td>TÜTEN</td>\n      <td>Vodafone</td>\n      <td>Yazılım Geliştirme</td>\n      <td>Bursa</td>\n      <td>03 Şubat 1987</td>\n      <td>5206</td>\n      <td>5427560798</td>\n      <td>tütengamze@hotmail.com</td>\n      <td>GAMZETÜTEN</td>\n    </tr>\n    <tr>\n      <th>4</th>\n      <td>MİRAÇ</td>\n      <td>ÖZTÜRK</td>\n      <td>Türk Telekom</td>\n      <td>Yazılım Geliştirme</td>\n      <td>İstanbul</td>\n      <td>22 Ekim 1987</td>\n      <td>8670</td>\n      <td>5544899572</td>\n      <td>öztürk.miraç@yandex.com</td>\n      <td>MİRAÇÖZTÜRK</td>\n    </tr>\n    <tr>\n      <th>...</th>\n      <td>...</td>\n      <td>...</td>\n      <td>...</td>\n      <td>...</td>\n      <td>...</td>\n      <td>...</td>\n      <td>...</td>\n      <td>...</td>\n      <td>...</td>\n      <td>...</td>\n    </tr>\n    <tr>\n      <th>2440</th>\n      <td>YILMAZ</td>\n      <td>YAZICI</td>\n      <td>Vodafone</td>\n      <td>Yazılım Geliştirme</td>\n      <td>Kocaeli</td>\n      <td>09 Aralık 1975</td>\n      <td>12593</td>\n      <td>5443005679</td>\n      <td>yilmaz.yazici@yahoo.com</td>\n      <td>YILMAZYAZICI</td>\n    </tr>\n    <tr>\n      <th>2441</th>\n      <td>ZEYNEP</td>\n      <td>DOĞANGÜZEL</td>\n      <td>Türk Telekom</td>\n      <td>Yazılım Geliştirme</td>\n      <td>İstanbul</td>\n      <td>22 Mayıs 1986</td>\n      <td>6021</td>\n      <td>5533689407</td>\n      <td>zeynep.doğangüzel@gmail.com</td>\n      <td>ZEYNEPDOĞANGÜZEL</td>\n    </tr>\n    <tr>\n      <th>2442</th>\n      <td>CANER</td>\n      <td>AKKAYA</td>\n      <td>Türk Telekom</td>\n      <td>Yazılım Geliştirme</td>\n      <td>İstanbul</td>\n      <td>07 Kasım 1983</td>\n      <td>8716</td>\n      <td>5533969681</td>\n      <td>akkaya.caner@yandex.com</td>\n      <td>CANERAKKAYA</td>\n    </tr>\n    <tr>\n      <th>2443</th>\n      <td>VOLKAN</td>\n      <td>FEYZULLAHOĞLU</td>\n      <td>Türk Telekom</td>\n      <td>Yazılım Geliştirme</td>\n      <td>Bursa</td>\n      <td>09 Temmuz 1984</td>\n      <td>9408</td>\n      <td>5069462233</td>\n      <td>feyzullahoğlu.volkan@yahoo.com</td>\n      <td>VOLKANFEYZULLAHOĞLU</td>\n    </tr>\n    <tr>\n      <th>2444</th>\n      <td>EMRE</td>\n      <td>ŞAHİN</td>\n      <td>Vodafone</td>\n      <td>Yazılım Geliştirme</td>\n      <td>İstanbul</td>\n      <td>16 Temmuz 1978</td>\n      <td>14493</td>\n      <td>5415697256</td>\n      <td>emre.şahin@yandex.com</td>\n      <td>EMREŞAHİN</td>\n    </tr>\n  </tbody>\n</table>\n<p>2445 rows × 10 columns</p>\n</div>"
     },
     "execution_count": 49,
     "metadata": {},
     "output_type": "execute_result"
    }
   ],
   "source": [
    "df"
   ],
   "metadata": {
    "collapsed": false,
    "pycharm": {
     "name": "#%%\n"
    }
   }
  },
  {
   "cell_type": "code",
   "execution_count": 51,
   "outputs": [],
   "source": [
    "df.drop(columns=\"Kullanici Adi\" , inplace=True)"
   ],
   "metadata": {
    "collapsed": false,
    "pycharm": {
     "name": "#%%\n"
    }
   }
  },
  {
   "cell_type": "code",
   "execution_count": 53,
   "outputs": [
    {
     "data": {
      "text/plain": "     Isimler     Soyisimler   TelefonTuru                    Departman  \\\n0        ALİ       KANDEMİR         Sabit  Müşteri İlişkileri ve Satış   \n1     MAHMUT          ÇEVİK         Sabit           Yazılım Geliştirme   \n2     MANSUR        ERKURAN      Vodafone           Yazılım Geliştirme   \n3      GAMZE          TÜTEN      Vodafone           Yazılım Geliştirme   \n4      MİRAÇ         ÖZTÜRK  Türk Telekom           Yazılım Geliştirme   \n...      ...            ...           ...                          ...   \n2440  YILMAZ         YAZICI      Vodafone           Yazılım Geliştirme   \n2441  ZEYNEP     DOĞANGÜZEL  Türk Telekom           Yazılım Geliştirme   \n2442   CANER         AKKAYA  Türk Telekom           Yazılım Geliştirme   \n2443  VOLKAN  FEYZULLAHOĞLU  Türk Telekom           Yazılım Geliştirme   \n2444    EMRE          ŞAHİN      Vodafone           Yazılım Geliştirme   \n\n         Sehir     DogumTarihi   Maas     Telefon  \\\n0      Kocaeli   22 Nisan 1985   9477  2625462003   \n1     İstanbul   02 Mayıs 1979  11331  2128804662   \n2       Ankara   02 Kasım 1979  11679  5488439920   \n3        Bursa   03 Şubat 1987   5206  5427560798   \n4     İstanbul    22 Ekim 1987   8670  5544899572   \n...        ...             ...    ...         ...   \n2440   Kocaeli  09 Aralık 1975  12593  5443005679   \n2441  İstanbul   22 Mayıs 1986   6021  5533689407   \n2442  İstanbul   07 Kasım 1983   8716  5533969681   \n2443     Bursa  09 Temmuz 1984   9408  5069462233   \n2444  İstanbul  16 Temmuz 1978  14493  5415697256   \n\n                                mail  \n0             kandemirali@yandex.com  \n1            mahmut.çevik@yandex.com  \n2           mansur.erkuran@gmail.com  \n3             tütengamze@hotmail.com  \n4            öztürk.miraç@yandex.com  \n...                              ...  \n2440         yilmaz.yazici@yahoo.com  \n2441     zeynep.doğangüzel@gmail.com  \n2442         akkaya.caner@yandex.com  \n2443  feyzullahoğlu.volkan@yahoo.com  \n2444           emre.şahin@yandex.com  \n\n[2445 rows x 9 columns]",
      "text/html": "<div>\n<style scoped>\n    .dataframe tbody tr th:only-of-type {\n        vertical-align: middle;\n    }\n\n    .dataframe tbody tr th {\n        vertical-align: top;\n    }\n\n    .dataframe thead th {\n        text-align: right;\n    }\n</style>\n<table border=\"1\" class=\"dataframe\">\n  <thead>\n    <tr style=\"text-align: right;\">\n      <th></th>\n      <th>Isimler</th>\n      <th>Soyisimler</th>\n      <th>TelefonTuru</th>\n      <th>Departman</th>\n      <th>Sehir</th>\n      <th>DogumTarihi</th>\n      <th>Maas</th>\n      <th>Telefon</th>\n      <th>mail</th>\n    </tr>\n  </thead>\n  <tbody>\n    <tr>\n      <th>0</th>\n      <td>ALİ</td>\n      <td>KANDEMİR</td>\n      <td>Sabit</td>\n      <td>Müşteri İlişkileri ve Satış</td>\n      <td>Kocaeli</td>\n      <td>22 Nisan 1985</td>\n      <td>9477</td>\n      <td>2625462003</td>\n      <td>kandemirali@yandex.com</td>\n    </tr>\n    <tr>\n      <th>1</th>\n      <td>MAHMUT</td>\n      <td>ÇEVİK</td>\n      <td>Sabit</td>\n      <td>Yazılım Geliştirme</td>\n      <td>İstanbul</td>\n      <td>02 Mayıs 1979</td>\n      <td>11331</td>\n      <td>2128804662</td>\n      <td>mahmut.çevik@yandex.com</td>\n    </tr>\n    <tr>\n      <th>2</th>\n      <td>MANSUR</td>\n      <td>ERKURAN</td>\n      <td>Vodafone</td>\n      <td>Yazılım Geliştirme</td>\n      <td>Ankara</td>\n      <td>02 Kasım 1979</td>\n      <td>11679</td>\n      <td>5488439920</td>\n      <td>mansur.erkuran@gmail.com</td>\n    </tr>\n    <tr>\n      <th>3</th>\n      <td>GAMZE</td>\n      <td>TÜTEN</td>\n      <td>Vodafone</td>\n      <td>Yazılım Geliştirme</td>\n      <td>Bursa</td>\n      <td>03 Şubat 1987</td>\n      <td>5206</td>\n      <td>5427560798</td>\n      <td>tütengamze@hotmail.com</td>\n    </tr>\n    <tr>\n      <th>4</th>\n      <td>MİRAÇ</td>\n      <td>ÖZTÜRK</td>\n      <td>Türk Telekom</td>\n      <td>Yazılım Geliştirme</td>\n      <td>İstanbul</td>\n      <td>22 Ekim 1987</td>\n      <td>8670</td>\n      <td>5544899572</td>\n      <td>öztürk.miraç@yandex.com</td>\n    </tr>\n    <tr>\n      <th>...</th>\n      <td>...</td>\n      <td>...</td>\n      <td>...</td>\n      <td>...</td>\n      <td>...</td>\n      <td>...</td>\n      <td>...</td>\n      <td>...</td>\n      <td>...</td>\n    </tr>\n    <tr>\n      <th>2440</th>\n      <td>YILMAZ</td>\n      <td>YAZICI</td>\n      <td>Vodafone</td>\n      <td>Yazılım Geliştirme</td>\n      <td>Kocaeli</td>\n      <td>09 Aralık 1975</td>\n      <td>12593</td>\n      <td>5443005679</td>\n      <td>yilmaz.yazici@yahoo.com</td>\n    </tr>\n    <tr>\n      <th>2441</th>\n      <td>ZEYNEP</td>\n      <td>DOĞANGÜZEL</td>\n      <td>Türk Telekom</td>\n      <td>Yazılım Geliştirme</td>\n      <td>İstanbul</td>\n      <td>22 Mayıs 1986</td>\n      <td>6021</td>\n      <td>5533689407</td>\n      <td>zeynep.doğangüzel@gmail.com</td>\n    </tr>\n    <tr>\n      <th>2442</th>\n      <td>CANER</td>\n      <td>AKKAYA</td>\n      <td>Türk Telekom</td>\n      <td>Yazılım Geliştirme</td>\n      <td>İstanbul</td>\n      <td>07 Kasım 1983</td>\n      <td>8716</td>\n      <td>5533969681</td>\n      <td>akkaya.caner@yandex.com</td>\n    </tr>\n    <tr>\n      <th>2443</th>\n      <td>VOLKAN</td>\n      <td>FEYZULLAHOĞLU</td>\n      <td>Türk Telekom</td>\n      <td>Yazılım Geliştirme</td>\n      <td>Bursa</td>\n      <td>09 Temmuz 1984</td>\n      <td>9408</td>\n      <td>5069462233</td>\n      <td>feyzullahoğlu.volkan@yahoo.com</td>\n    </tr>\n    <tr>\n      <th>2444</th>\n      <td>EMRE</td>\n      <td>ŞAHİN</td>\n      <td>Vodafone</td>\n      <td>Yazılım Geliştirme</td>\n      <td>İstanbul</td>\n      <td>16 Temmuz 1978</td>\n      <td>14493</td>\n      <td>5415697256</td>\n      <td>emre.şahin@yandex.com</td>\n    </tr>\n  </tbody>\n</table>\n<p>2445 rows × 9 columns</p>\n</div>"
     },
     "execution_count": 53,
     "metadata": {},
     "output_type": "execute_result"
    }
   ],
   "source": [
    "df"
   ],
   "metadata": {
    "collapsed": false,
    "pycharm": {
     "name": "#%%\n"
    }
   }
  },
  {
   "cell_type": "code",
   "execution_count": 54,
   "outputs": [],
   "source": [
    "df.insert(2,column=\"Kullanici Adi\", value=kullaniciAdlari)"
   ],
   "metadata": {
    "collapsed": false,
    "pycharm": {
     "name": "#%%\n"
    }
   }
  },
  {
   "cell_type": "code",
   "execution_count": 55,
   "outputs": [
    {
     "data": {
      "text/plain": "     Isimler     Soyisimler        Kullanici Adi   TelefonTuru  \\\n0        ALİ       KANDEMİR          ALİKANDEMİR         Sabit   \n1     MAHMUT          ÇEVİK          MAHMUTÇEVİK         Sabit   \n2     MANSUR        ERKURAN        MANSURERKURAN      Vodafone   \n3      GAMZE          TÜTEN           GAMZETÜTEN      Vodafone   \n4      MİRAÇ         ÖZTÜRK          MİRAÇÖZTÜRK  Türk Telekom   \n...      ...            ...                  ...           ...   \n2440  YILMAZ         YAZICI         YILMAZYAZICI      Vodafone   \n2441  ZEYNEP     DOĞANGÜZEL     ZEYNEPDOĞANGÜZEL  Türk Telekom   \n2442   CANER         AKKAYA          CANERAKKAYA  Türk Telekom   \n2443  VOLKAN  FEYZULLAHOĞLU  VOLKANFEYZULLAHOĞLU  Türk Telekom   \n2444    EMRE          ŞAHİN            EMREŞAHİN      Vodafone   \n\n                        Departman     Sehir     DogumTarihi   Maas  \\\n0     Müşteri İlişkileri ve Satış   Kocaeli   22 Nisan 1985   9477   \n1              Yazılım Geliştirme  İstanbul   02 Mayıs 1979  11331   \n2              Yazılım Geliştirme    Ankara   02 Kasım 1979  11679   \n3              Yazılım Geliştirme     Bursa   03 Şubat 1987   5206   \n4              Yazılım Geliştirme  İstanbul    22 Ekim 1987   8670   \n...                           ...       ...             ...    ...   \n2440           Yazılım Geliştirme   Kocaeli  09 Aralık 1975  12593   \n2441           Yazılım Geliştirme  İstanbul   22 Mayıs 1986   6021   \n2442           Yazılım Geliştirme  İstanbul   07 Kasım 1983   8716   \n2443           Yazılım Geliştirme     Bursa  09 Temmuz 1984   9408   \n2444           Yazılım Geliştirme  İstanbul  16 Temmuz 1978  14493   \n\n         Telefon                            mail  \n0     2625462003          kandemirali@yandex.com  \n1     2128804662         mahmut.çevik@yandex.com  \n2     5488439920        mansur.erkuran@gmail.com  \n3     5427560798          tütengamze@hotmail.com  \n4     5544899572         öztürk.miraç@yandex.com  \n...          ...                             ...  \n2440  5443005679         yilmaz.yazici@yahoo.com  \n2441  5533689407     zeynep.doğangüzel@gmail.com  \n2442  5533969681         akkaya.caner@yandex.com  \n2443  5069462233  feyzullahoğlu.volkan@yahoo.com  \n2444  5415697256           emre.şahin@yandex.com  \n\n[2445 rows x 10 columns]",
      "text/html": "<div>\n<style scoped>\n    .dataframe tbody tr th:only-of-type {\n        vertical-align: middle;\n    }\n\n    .dataframe tbody tr th {\n        vertical-align: top;\n    }\n\n    .dataframe thead th {\n        text-align: right;\n    }\n</style>\n<table border=\"1\" class=\"dataframe\">\n  <thead>\n    <tr style=\"text-align: right;\">\n      <th></th>\n      <th>Isimler</th>\n      <th>Soyisimler</th>\n      <th>Kullanici Adi</th>\n      <th>TelefonTuru</th>\n      <th>Departman</th>\n      <th>Sehir</th>\n      <th>DogumTarihi</th>\n      <th>Maas</th>\n      <th>Telefon</th>\n      <th>mail</th>\n    </tr>\n  </thead>\n  <tbody>\n    <tr>\n      <th>0</th>\n      <td>ALİ</td>\n      <td>KANDEMİR</td>\n      <td>ALİKANDEMİR</td>\n      <td>Sabit</td>\n      <td>Müşteri İlişkileri ve Satış</td>\n      <td>Kocaeli</td>\n      <td>22 Nisan 1985</td>\n      <td>9477</td>\n      <td>2625462003</td>\n      <td>kandemirali@yandex.com</td>\n    </tr>\n    <tr>\n      <th>1</th>\n      <td>MAHMUT</td>\n      <td>ÇEVİK</td>\n      <td>MAHMUTÇEVİK</td>\n      <td>Sabit</td>\n      <td>Yazılım Geliştirme</td>\n      <td>İstanbul</td>\n      <td>02 Mayıs 1979</td>\n      <td>11331</td>\n      <td>2128804662</td>\n      <td>mahmut.çevik@yandex.com</td>\n    </tr>\n    <tr>\n      <th>2</th>\n      <td>MANSUR</td>\n      <td>ERKURAN</td>\n      <td>MANSURERKURAN</td>\n      <td>Vodafone</td>\n      <td>Yazılım Geliştirme</td>\n      <td>Ankara</td>\n      <td>02 Kasım 1979</td>\n      <td>11679</td>\n      <td>5488439920</td>\n      <td>mansur.erkuran@gmail.com</td>\n    </tr>\n    <tr>\n      <th>3</th>\n      <td>GAMZE</td>\n      <td>TÜTEN</td>\n      <td>GAMZETÜTEN</td>\n      <td>Vodafone</td>\n      <td>Yazılım Geliştirme</td>\n      <td>Bursa</td>\n      <td>03 Şubat 1987</td>\n      <td>5206</td>\n      <td>5427560798</td>\n      <td>tütengamze@hotmail.com</td>\n    </tr>\n    <tr>\n      <th>4</th>\n      <td>MİRAÇ</td>\n      <td>ÖZTÜRK</td>\n      <td>MİRAÇÖZTÜRK</td>\n      <td>Türk Telekom</td>\n      <td>Yazılım Geliştirme</td>\n      <td>İstanbul</td>\n      <td>22 Ekim 1987</td>\n      <td>8670</td>\n      <td>5544899572</td>\n      <td>öztürk.miraç@yandex.com</td>\n    </tr>\n    <tr>\n      <th>...</th>\n      <td>...</td>\n      <td>...</td>\n      <td>...</td>\n      <td>...</td>\n      <td>...</td>\n      <td>...</td>\n      <td>...</td>\n      <td>...</td>\n      <td>...</td>\n      <td>...</td>\n    </tr>\n    <tr>\n      <th>2440</th>\n      <td>YILMAZ</td>\n      <td>YAZICI</td>\n      <td>YILMAZYAZICI</td>\n      <td>Vodafone</td>\n      <td>Yazılım Geliştirme</td>\n      <td>Kocaeli</td>\n      <td>09 Aralık 1975</td>\n      <td>12593</td>\n      <td>5443005679</td>\n      <td>yilmaz.yazici@yahoo.com</td>\n    </tr>\n    <tr>\n      <th>2441</th>\n      <td>ZEYNEP</td>\n      <td>DOĞANGÜZEL</td>\n      <td>ZEYNEPDOĞANGÜZEL</td>\n      <td>Türk Telekom</td>\n      <td>Yazılım Geliştirme</td>\n      <td>İstanbul</td>\n      <td>22 Mayıs 1986</td>\n      <td>6021</td>\n      <td>5533689407</td>\n      <td>zeynep.doğangüzel@gmail.com</td>\n    </tr>\n    <tr>\n      <th>2442</th>\n      <td>CANER</td>\n      <td>AKKAYA</td>\n      <td>CANERAKKAYA</td>\n      <td>Türk Telekom</td>\n      <td>Yazılım Geliştirme</td>\n      <td>İstanbul</td>\n      <td>07 Kasım 1983</td>\n      <td>8716</td>\n      <td>5533969681</td>\n      <td>akkaya.caner@yandex.com</td>\n    </tr>\n    <tr>\n      <th>2443</th>\n      <td>VOLKAN</td>\n      <td>FEYZULLAHOĞLU</td>\n      <td>VOLKANFEYZULLAHOĞLU</td>\n      <td>Türk Telekom</td>\n      <td>Yazılım Geliştirme</td>\n      <td>Bursa</td>\n      <td>09 Temmuz 1984</td>\n      <td>9408</td>\n      <td>5069462233</td>\n      <td>feyzullahoğlu.volkan@yahoo.com</td>\n    </tr>\n    <tr>\n      <th>2444</th>\n      <td>EMRE</td>\n      <td>ŞAHİN</td>\n      <td>EMREŞAHİN</td>\n      <td>Vodafone</td>\n      <td>Yazılım Geliştirme</td>\n      <td>İstanbul</td>\n      <td>16 Temmuz 1978</td>\n      <td>14493</td>\n      <td>5415697256</td>\n      <td>emre.şahin@yandex.com</td>\n    </tr>\n  </tbody>\n</table>\n<p>2445 rows × 10 columns</p>\n</div>"
     },
     "execution_count": 55,
     "metadata": {},
     "output_type": "execute_result"
    }
   ],
   "source": [
    "df"
   ],
   "metadata": {
    "collapsed": false,
    "pycharm": {
     "name": "#%%\n"
    }
   }
  },
  {
   "cell_type": "code",
   "execution_count": 63,
   "outputs": [
    {
     "data": {
      "text/plain": "     Isimler     Soyisimler   TelefonTuru                    Departman  \\\n0        ALİ       KANDEMİR         Sabit  Müşteri İlişkileri ve Satış   \n1     MAHMUT          ÇEVİK         Sabit           Yazılım Geliştirme   \n2     MANSUR        ERKURAN      Vodafone           Yazılım Geliştirme   \n3      GAMZE          TÜTEN      Vodafone           Yazılım Geliştirme   \n4      MİRAÇ         ÖZTÜRK  Türk Telekom           Yazılım Geliştirme   \n...      ...            ...           ...                          ...   \n2440  YILMAZ         YAZICI      Vodafone           Yazılım Geliştirme   \n2441  ZEYNEP     DOĞANGÜZEL  Türk Telekom           Yazılım Geliştirme   \n2442   CANER         AKKAYA  Türk Telekom           Yazılım Geliştirme   \n2443  VOLKAN  FEYZULLAHOĞLU  Türk Telekom           Yazılım Geliştirme   \n2444    EMRE          ŞAHİN      Vodafone           Yazılım Geliştirme   \n\n         Sehir     DogumTarihi     Maas     Telefon  \\\n0      Kocaeli   22 Nisan 1985  2455477  2625462003   \n1     İstanbul   02 Mayıs 1979  2457331  2128804662   \n2       Ankara   02 Kasım 1979  2457679  5488439920   \n3        Bursa   03 Şubat 1987  2451206  5427560798   \n4     İstanbul    22 Ekim 1987  2454670  5544899572   \n...        ...             ...      ...         ...   \n2440   Kocaeli  09 Aralık 1975  2458593  5443005679   \n2441  İstanbul   22 Mayıs 1986  2452021  5533689407   \n2442  İstanbul   07 Kasım 1983  2454716  5533969681   \n2443     Bursa  09 Temmuz 1984  2455408  5069462233   \n2444  İstanbul  16 Temmuz 1978  2460493  5415697256   \n\n                                mail  \n0             kandemirali@yandex.com  \n1            mahmut.çevik@yandex.com  \n2           mansur.erkuran@gmail.com  \n3             tütengamze@hotmail.com  \n4            öztürk.miraç@yandex.com  \n...                              ...  \n2440         yilmaz.yazici@yahoo.com  \n2441     zeynep.doğangüzel@gmail.com  \n2442         akkaya.caner@yandex.com  \n2443  feyzullahoğlu.volkan@yahoo.com  \n2444           emre.şahin@yandex.com  \n\n[2445 rows x 9 columns]",
      "text/html": "<div>\n<style scoped>\n    .dataframe tbody tr th:only-of-type {\n        vertical-align: middle;\n    }\n\n    .dataframe tbody tr th {\n        vertical-align: top;\n    }\n\n    .dataframe thead th {\n        text-align: right;\n    }\n</style>\n<table border=\"1\" class=\"dataframe\">\n  <thead>\n    <tr style=\"text-align: right;\">\n      <th></th>\n      <th>Isimler</th>\n      <th>Soyisimler</th>\n      <th>TelefonTuru</th>\n      <th>Departman</th>\n      <th>Sehir</th>\n      <th>DogumTarihi</th>\n      <th>Maas</th>\n      <th>Telefon</th>\n      <th>mail</th>\n    </tr>\n  </thead>\n  <tbody>\n    <tr>\n      <th>0</th>\n      <td>ALİ</td>\n      <td>KANDEMİR</td>\n      <td>Sabit</td>\n      <td>Müşteri İlişkileri ve Satış</td>\n      <td>Kocaeli</td>\n      <td>22 Nisan 1985</td>\n      <td>2455477</td>\n      <td>2625462003</td>\n      <td>kandemirali@yandex.com</td>\n    </tr>\n    <tr>\n      <th>1</th>\n      <td>MAHMUT</td>\n      <td>ÇEVİK</td>\n      <td>Sabit</td>\n      <td>Yazılım Geliştirme</td>\n      <td>İstanbul</td>\n      <td>02 Mayıs 1979</td>\n      <td>2457331</td>\n      <td>2128804662</td>\n      <td>mahmut.çevik@yandex.com</td>\n    </tr>\n    <tr>\n      <th>2</th>\n      <td>MANSUR</td>\n      <td>ERKURAN</td>\n      <td>Vodafone</td>\n      <td>Yazılım Geliştirme</td>\n      <td>Ankara</td>\n      <td>02 Kasım 1979</td>\n      <td>2457679</td>\n      <td>5488439920</td>\n      <td>mansur.erkuran@gmail.com</td>\n    </tr>\n    <tr>\n      <th>3</th>\n      <td>GAMZE</td>\n      <td>TÜTEN</td>\n      <td>Vodafone</td>\n      <td>Yazılım Geliştirme</td>\n      <td>Bursa</td>\n      <td>03 Şubat 1987</td>\n      <td>2451206</td>\n      <td>5427560798</td>\n      <td>tütengamze@hotmail.com</td>\n    </tr>\n    <tr>\n      <th>4</th>\n      <td>MİRAÇ</td>\n      <td>ÖZTÜRK</td>\n      <td>Türk Telekom</td>\n      <td>Yazılım Geliştirme</td>\n      <td>İstanbul</td>\n      <td>22 Ekim 1987</td>\n      <td>2454670</td>\n      <td>5544899572</td>\n      <td>öztürk.miraç@yandex.com</td>\n    </tr>\n    <tr>\n      <th>...</th>\n      <td>...</td>\n      <td>...</td>\n      <td>...</td>\n      <td>...</td>\n      <td>...</td>\n      <td>...</td>\n      <td>...</td>\n      <td>...</td>\n      <td>...</td>\n    </tr>\n    <tr>\n      <th>2440</th>\n      <td>YILMAZ</td>\n      <td>YAZICI</td>\n      <td>Vodafone</td>\n      <td>Yazılım Geliştirme</td>\n      <td>Kocaeli</td>\n      <td>09 Aralık 1975</td>\n      <td>2458593</td>\n      <td>5443005679</td>\n      <td>yilmaz.yazici@yahoo.com</td>\n    </tr>\n    <tr>\n      <th>2441</th>\n      <td>ZEYNEP</td>\n      <td>DOĞANGÜZEL</td>\n      <td>Türk Telekom</td>\n      <td>Yazılım Geliştirme</td>\n      <td>İstanbul</td>\n      <td>22 Mayıs 1986</td>\n      <td>2452021</td>\n      <td>5533689407</td>\n      <td>zeynep.doğangüzel@gmail.com</td>\n    </tr>\n    <tr>\n      <th>2442</th>\n      <td>CANER</td>\n      <td>AKKAYA</td>\n      <td>Türk Telekom</td>\n      <td>Yazılım Geliştirme</td>\n      <td>İstanbul</td>\n      <td>07 Kasım 1983</td>\n      <td>2454716</td>\n      <td>5533969681</td>\n      <td>akkaya.caner@yandex.com</td>\n    </tr>\n    <tr>\n      <th>2443</th>\n      <td>VOLKAN</td>\n      <td>FEYZULLAHOĞLU</td>\n      <td>Türk Telekom</td>\n      <td>Yazılım Geliştirme</td>\n      <td>Bursa</td>\n      <td>09 Temmuz 1984</td>\n      <td>2455408</td>\n      <td>5069462233</td>\n      <td>feyzullahoğlu.volkan@yahoo.com</td>\n    </tr>\n    <tr>\n      <th>2444</th>\n      <td>EMRE</td>\n      <td>ŞAHİN</td>\n      <td>Vodafone</td>\n      <td>Yazılım Geliştirme</td>\n      <td>İstanbul</td>\n      <td>16 Temmuz 1978</td>\n      <td>2460493</td>\n      <td>5415697256</td>\n      <td>emre.şahin@yandex.com</td>\n    </tr>\n  </tbody>\n</table>\n<p>2445 rows × 9 columns</p>\n</div>"
     },
     "execution_count": 63,
     "metadata": {},
     "output_type": "execute_result"
    }
   ],
   "source": [
    "df.drop(columns=\"Kullanici Adi\")"
   ],
   "metadata": {
    "collapsed": false,
    "pycharm": {
     "name": "#%%\n"
    }
   }
  },
  {
   "cell_type": "code",
   "execution_count": 64,
   "outputs": [],
   "source": [
    "#MATEMATİKSEL İŞLEMLER"
   ],
   "metadata": {
    "collapsed": false,
    "pycharm": {
     "name": "#%%\n"
    }
   }
  },
  {
   "cell_type": "code",
   "execution_count": 67,
   "outputs": [],
   "source": [
    "df2 = pd.read_csv(\"calisan_data.csv\")"
   ],
   "metadata": {
    "collapsed": false,
    "pycharm": {
     "name": "#%%\n"
    }
   }
  },
  {
   "cell_type": "code",
   "execution_count": 68,
   "outputs": [
    {
     "data": {
      "text/plain": "     Isimler     Soyisimler   TelefonTuru                    Departman  \\\n0        ALİ       KANDEMİR         Sabit  Müşteri İlişkileri ve Satış   \n1     MAHMUT          ÇEVİK         Sabit           Yazılım Geliştirme   \n2     MANSUR        ERKURAN      Vodafone           Yazılım Geliştirme   \n3      GAMZE          TÜTEN      Vodafone           Yazılım Geliştirme   \n4      MİRAÇ         ÖZTÜRK  Türk Telekom           Yazılım Geliştirme   \n...      ...            ...           ...                          ...   \n2440  YILMAZ         YAZICI      Vodafone           Yazılım Geliştirme   \n2441  ZEYNEP     DOĞANGÜZEL  Türk Telekom           Yazılım Geliştirme   \n2442   CANER         AKKAYA  Türk Telekom           Yazılım Geliştirme   \n2443  VOLKAN  FEYZULLAHOĞLU  Türk Telekom           Yazılım Geliştirme   \n2444    EMRE          ŞAHİN      Vodafone           Yazılım Geliştirme   \n\n         Sehir     DogumTarihi   Maas     Telefon  \\\n0      Kocaeli   22 Nisan 1985   9477  2625462003   \n1     İstanbul   02 Mayıs 1979  11331  2128804662   \n2       Ankara   02 Kasım 1979  11679  5488439920   \n3        Bursa   03 Şubat 1987   5206  5427560798   \n4     İstanbul    22 Ekim 1987   8670  5544899572   \n...        ...             ...    ...         ...   \n2440   Kocaeli  09 Aralık 1975  12593  5443005679   \n2441  İstanbul   22 Mayıs 1986   6021  5533689407   \n2442  İstanbul   07 Kasım 1983   8716  5533969681   \n2443     Bursa  09 Temmuz 1984   9408  5069462233   \n2444  İstanbul  16 Temmuz 1978  14493  5415697256   \n\n                                mail  \n0             kandemirali@yandex.com  \n1            mahmut.çevik@yandex.com  \n2           mansur.erkuran@gmail.com  \n3             tütengamze@hotmail.com  \n4            öztürk.miraç@yandex.com  \n...                              ...  \n2440         yilmaz.yazici@yahoo.com  \n2441     zeynep.doğangüzel@gmail.com  \n2442         akkaya.caner@yandex.com  \n2443  feyzullahoğlu.volkan@yahoo.com  \n2444           emre.şahin@yandex.com  \n\n[2445 rows x 9 columns]",
      "text/html": "<div>\n<style scoped>\n    .dataframe tbody tr th:only-of-type {\n        vertical-align: middle;\n    }\n\n    .dataframe tbody tr th {\n        vertical-align: top;\n    }\n\n    .dataframe thead th {\n        text-align: right;\n    }\n</style>\n<table border=\"1\" class=\"dataframe\">\n  <thead>\n    <tr style=\"text-align: right;\">\n      <th></th>\n      <th>Isimler</th>\n      <th>Soyisimler</th>\n      <th>TelefonTuru</th>\n      <th>Departman</th>\n      <th>Sehir</th>\n      <th>DogumTarihi</th>\n      <th>Maas</th>\n      <th>Telefon</th>\n      <th>mail</th>\n    </tr>\n  </thead>\n  <tbody>\n    <tr>\n      <th>0</th>\n      <td>ALİ</td>\n      <td>KANDEMİR</td>\n      <td>Sabit</td>\n      <td>Müşteri İlişkileri ve Satış</td>\n      <td>Kocaeli</td>\n      <td>22 Nisan 1985</td>\n      <td>9477</td>\n      <td>2625462003</td>\n      <td>kandemirali@yandex.com</td>\n    </tr>\n    <tr>\n      <th>1</th>\n      <td>MAHMUT</td>\n      <td>ÇEVİK</td>\n      <td>Sabit</td>\n      <td>Yazılım Geliştirme</td>\n      <td>İstanbul</td>\n      <td>02 Mayıs 1979</td>\n      <td>11331</td>\n      <td>2128804662</td>\n      <td>mahmut.çevik@yandex.com</td>\n    </tr>\n    <tr>\n      <th>2</th>\n      <td>MANSUR</td>\n      <td>ERKURAN</td>\n      <td>Vodafone</td>\n      <td>Yazılım Geliştirme</td>\n      <td>Ankara</td>\n      <td>02 Kasım 1979</td>\n      <td>11679</td>\n      <td>5488439920</td>\n      <td>mansur.erkuran@gmail.com</td>\n    </tr>\n    <tr>\n      <th>3</th>\n      <td>GAMZE</td>\n      <td>TÜTEN</td>\n      <td>Vodafone</td>\n      <td>Yazılım Geliştirme</td>\n      <td>Bursa</td>\n      <td>03 Şubat 1987</td>\n      <td>5206</td>\n      <td>5427560798</td>\n      <td>tütengamze@hotmail.com</td>\n    </tr>\n    <tr>\n      <th>4</th>\n      <td>MİRAÇ</td>\n      <td>ÖZTÜRK</td>\n      <td>Türk Telekom</td>\n      <td>Yazılım Geliştirme</td>\n      <td>İstanbul</td>\n      <td>22 Ekim 1987</td>\n      <td>8670</td>\n      <td>5544899572</td>\n      <td>öztürk.miraç@yandex.com</td>\n    </tr>\n    <tr>\n      <th>...</th>\n      <td>...</td>\n      <td>...</td>\n      <td>...</td>\n      <td>...</td>\n      <td>...</td>\n      <td>...</td>\n      <td>...</td>\n      <td>...</td>\n      <td>...</td>\n    </tr>\n    <tr>\n      <th>2440</th>\n      <td>YILMAZ</td>\n      <td>YAZICI</td>\n      <td>Vodafone</td>\n      <td>Yazılım Geliştirme</td>\n      <td>Kocaeli</td>\n      <td>09 Aralık 1975</td>\n      <td>12593</td>\n      <td>5443005679</td>\n      <td>yilmaz.yazici@yahoo.com</td>\n    </tr>\n    <tr>\n      <th>2441</th>\n      <td>ZEYNEP</td>\n      <td>DOĞANGÜZEL</td>\n      <td>Türk Telekom</td>\n      <td>Yazılım Geliştirme</td>\n      <td>İstanbul</td>\n      <td>22 Mayıs 1986</td>\n      <td>6021</td>\n      <td>5533689407</td>\n      <td>zeynep.doğangüzel@gmail.com</td>\n    </tr>\n    <tr>\n      <th>2442</th>\n      <td>CANER</td>\n      <td>AKKAYA</td>\n      <td>Türk Telekom</td>\n      <td>Yazılım Geliştirme</td>\n      <td>İstanbul</td>\n      <td>07 Kasım 1983</td>\n      <td>8716</td>\n      <td>5533969681</td>\n      <td>akkaya.caner@yandex.com</td>\n    </tr>\n    <tr>\n      <th>2443</th>\n      <td>VOLKAN</td>\n      <td>FEYZULLAHOĞLU</td>\n      <td>Türk Telekom</td>\n      <td>Yazılım Geliştirme</td>\n      <td>Bursa</td>\n      <td>09 Temmuz 1984</td>\n      <td>9408</td>\n      <td>5069462233</td>\n      <td>feyzullahoğlu.volkan@yahoo.com</td>\n    </tr>\n    <tr>\n      <th>2444</th>\n      <td>EMRE</td>\n      <td>ŞAHİN</td>\n      <td>Vodafone</td>\n      <td>Yazılım Geliştirme</td>\n      <td>İstanbul</td>\n      <td>16 Temmuz 1978</td>\n      <td>14493</td>\n      <td>5415697256</td>\n      <td>emre.şahin@yandex.com</td>\n    </tr>\n  </tbody>\n</table>\n<p>2445 rows × 9 columns</p>\n</div>"
     },
     "execution_count": 68,
     "metadata": {},
     "output_type": "execute_result"
    }
   ],
   "source": [
    "df2"
   ],
   "metadata": {
    "collapsed": false,
    "pycharm": {
     "name": "#%%\n"
    }
   }
  },
  {
   "cell_type": "code",
   "execution_count": 69,
   "outputs": [
    {
     "name": "stderr",
     "output_type": "stream",
     "text": [
      "C:\\Users\\AYBARS\\anaconda3\\lib\\site-packages\\ipykernel_launcher.py:2: SettingWithCopyWarning: \n",
      "A value is trying to be set on a copy of a slice from a DataFrame\n",
      "\n",
      "See the caveats in the documentation: https://pandas.pydata.org/pandas-docs/stable/user_guide/indexing.html#returning-a-view-versus-a-copy\n",
      "  \n"
     ]
    }
   ],
   "source": [
    "for i in range(0,2445):\n",
    "    df2.Maas[i] += 1000\n"
   ],
   "metadata": {
    "collapsed": false,
    "pycharm": {
     "name": "#%%\n"
    }
   }
  },
  {
   "cell_type": "code",
   "execution_count": 71,
   "outputs": [
    {
     "data": {
      "text/plain": "     Isimler     Soyisimler   TelefonTuru                    Departman  \\\n0        ALİ       KANDEMİR         Sabit  Müşteri İlişkileri ve Satış   \n1     MAHMUT          ÇEVİK         Sabit           Yazılım Geliştirme   \n2     MANSUR        ERKURAN      Vodafone           Yazılım Geliştirme   \n3      GAMZE          TÜTEN      Vodafone           Yazılım Geliştirme   \n4      MİRAÇ         ÖZTÜRK  Türk Telekom           Yazılım Geliştirme   \n...      ...            ...           ...                          ...   \n2440  YILMAZ         YAZICI      Vodafone           Yazılım Geliştirme   \n2441  ZEYNEP     DOĞANGÜZEL  Türk Telekom           Yazılım Geliştirme   \n2442   CANER         AKKAYA  Türk Telekom           Yazılım Geliştirme   \n2443  VOLKAN  FEYZULLAHOĞLU  Türk Telekom           Yazılım Geliştirme   \n2444    EMRE          ŞAHİN      Vodafone           Yazılım Geliştirme   \n\n         Sehir     DogumTarihi   Maas     Telefon  \\\n0      Kocaeli   22 Nisan 1985   9477  2625462003   \n1     İstanbul   02 Mayıs 1979  11331  2128804662   \n2       Ankara   02 Kasım 1979  11679  5488439920   \n3        Bursa   03 Şubat 1987   5206  5427560798   \n4     İstanbul    22 Ekim 1987   8670  5544899572   \n...        ...             ...    ...         ...   \n2440   Kocaeli  09 Aralık 1975  12593  5443005679   \n2441  İstanbul   22 Mayıs 1986   6021  5533689407   \n2442  İstanbul   07 Kasım 1983   8716  5533969681   \n2443     Bursa  09 Temmuz 1984   9408  5069462233   \n2444  İstanbul  16 Temmuz 1978  14493  5415697256   \n\n                                mail  \n0             kandemirali@yandex.com  \n1            mahmut.çevik@yandex.com  \n2           mansur.erkuran@gmail.com  \n3             tütengamze@hotmail.com  \n4            öztürk.miraç@yandex.com  \n...                              ...  \n2440         yilmaz.yazici@yahoo.com  \n2441     zeynep.doğangüzel@gmail.com  \n2442         akkaya.caner@yandex.com  \n2443  feyzullahoğlu.volkan@yahoo.com  \n2444           emre.şahin@yandex.com  \n\n[2445 rows x 9 columns]",
      "text/html": "<div>\n<style scoped>\n    .dataframe tbody tr th:only-of-type {\n        vertical-align: middle;\n    }\n\n    .dataframe tbody tr th {\n        vertical-align: top;\n    }\n\n    .dataframe thead th {\n        text-align: right;\n    }\n</style>\n<table border=\"1\" class=\"dataframe\">\n  <thead>\n    <tr style=\"text-align: right;\">\n      <th></th>\n      <th>Isimler</th>\n      <th>Soyisimler</th>\n      <th>TelefonTuru</th>\n      <th>Departman</th>\n      <th>Sehir</th>\n      <th>DogumTarihi</th>\n      <th>Maas</th>\n      <th>Telefon</th>\n      <th>mail</th>\n    </tr>\n  </thead>\n  <tbody>\n    <tr>\n      <th>0</th>\n      <td>ALİ</td>\n      <td>KANDEMİR</td>\n      <td>Sabit</td>\n      <td>Müşteri İlişkileri ve Satış</td>\n      <td>Kocaeli</td>\n      <td>22 Nisan 1985</td>\n      <td>9477</td>\n      <td>2625462003</td>\n      <td>kandemirali@yandex.com</td>\n    </tr>\n    <tr>\n      <th>1</th>\n      <td>MAHMUT</td>\n      <td>ÇEVİK</td>\n      <td>Sabit</td>\n      <td>Yazılım Geliştirme</td>\n      <td>İstanbul</td>\n      <td>02 Mayıs 1979</td>\n      <td>11331</td>\n      <td>2128804662</td>\n      <td>mahmut.çevik@yandex.com</td>\n    </tr>\n    <tr>\n      <th>2</th>\n      <td>MANSUR</td>\n      <td>ERKURAN</td>\n      <td>Vodafone</td>\n      <td>Yazılım Geliştirme</td>\n      <td>Ankara</td>\n      <td>02 Kasım 1979</td>\n      <td>11679</td>\n      <td>5488439920</td>\n      <td>mansur.erkuran@gmail.com</td>\n    </tr>\n    <tr>\n      <th>3</th>\n      <td>GAMZE</td>\n      <td>TÜTEN</td>\n      <td>Vodafone</td>\n      <td>Yazılım Geliştirme</td>\n      <td>Bursa</td>\n      <td>03 Şubat 1987</td>\n      <td>5206</td>\n      <td>5427560798</td>\n      <td>tütengamze@hotmail.com</td>\n    </tr>\n    <tr>\n      <th>4</th>\n      <td>MİRAÇ</td>\n      <td>ÖZTÜRK</td>\n      <td>Türk Telekom</td>\n      <td>Yazılım Geliştirme</td>\n      <td>İstanbul</td>\n      <td>22 Ekim 1987</td>\n      <td>8670</td>\n      <td>5544899572</td>\n      <td>öztürk.miraç@yandex.com</td>\n    </tr>\n    <tr>\n      <th>...</th>\n      <td>...</td>\n      <td>...</td>\n      <td>...</td>\n      <td>...</td>\n      <td>...</td>\n      <td>...</td>\n      <td>...</td>\n      <td>...</td>\n      <td>...</td>\n    </tr>\n    <tr>\n      <th>2440</th>\n      <td>YILMAZ</td>\n      <td>YAZICI</td>\n      <td>Vodafone</td>\n      <td>Yazılım Geliştirme</td>\n      <td>Kocaeli</td>\n      <td>09 Aralık 1975</td>\n      <td>12593</td>\n      <td>5443005679</td>\n      <td>yilmaz.yazici@yahoo.com</td>\n    </tr>\n    <tr>\n      <th>2441</th>\n      <td>ZEYNEP</td>\n      <td>DOĞANGÜZEL</td>\n      <td>Türk Telekom</td>\n      <td>Yazılım Geliştirme</td>\n      <td>İstanbul</td>\n      <td>22 Mayıs 1986</td>\n      <td>6021</td>\n      <td>5533689407</td>\n      <td>zeynep.doğangüzel@gmail.com</td>\n    </tr>\n    <tr>\n      <th>2442</th>\n      <td>CANER</td>\n      <td>AKKAYA</td>\n      <td>Türk Telekom</td>\n      <td>Yazılım Geliştirme</td>\n      <td>İstanbul</td>\n      <td>07 Kasım 1983</td>\n      <td>8716</td>\n      <td>5533969681</td>\n      <td>akkaya.caner@yandex.com</td>\n    </tr>\n    <tr>\n      <th>2443</th>\n      <td>VOLKAN</td>\n      <td>FEYZULLAHOĞLU</td>\n      <td>Türk Telekom</td>\n      <td>Yazılım Geliştirme</td>\n      <td>Bursa</td>\n      <td>09 Temmuz 1984</td>\n      <td>9408</td>\n      <td>5069462233</td>\n      <td>feyzullahoğlu.volkan@yahoo.com</td>\n    </tr>\n    <tr>\n      <th>2444</th>\n      <td>EMRE</td>\n      <td>ŞAHİN</td>\n      <td>Vodafone</td>\n      <td>Yazılım Geliştirme</td>\n      <td>İstanbul</td>\n      <td>16 Temmuz 1978</td>\n      <td>14493</td>\n      <td>5415697256</td>\n      <td>emre.şahin@yandex.com</td>\n    </tr>\n  </tbody>\n</table>\n<p>2445 rows × 9 columns</p>\n</div>"
     },
     "execution_count": 71,
     "metadata": {},
     "output_type": "execute_result"
    }
   ],
   "source": [
    "df2\n",
    "\n",
    "\n"
   ],
   "metadata": {
    "collapsed": false,
    "pycharm": {
     "name": "#%%\n"
    }
   }
  },
  {
   "cell_type": "code",
   "execution_count": 72,
   "outputs": [
    {
     "data": {
      "text/plain": "0       10477\n1       12331\n2       12679\n3        6206\n4        9670\n        ...  \n2440    13593\n2441     7021\n2442     9716\n2443    10408\n2444    15493\nName: Maas, Length: 2445, dtype: int64"
     },
     "execution_count": 72,
     "metadata": {},
     "output_type": "execute_result"
    }
   ],
   "source": [
    "maasSerisi = df2[\"Maas\"].add(1000)"
   ],
   "metadata": {
    "collapsed": false,
    "pycharm": {
     "name": "#%%\n"
    }
   }
  },
  {
   "cell_type": "code",
   "execution_count": 75,
   "outputs": [],
   "source": [
    "df2[\"Maas\"] = df2[\"Maas\"].sub(2000)\n"
   ],
   "metadata": {
    "collapsed": false,
    "pycharm": {
     "name": "#%%\n"
    }
   }
  },
  {
   "cell_type": "code",
   "execution_count": 76,
   "outputs": [
    {
     "data": {
      "text/plain": "     Isimler     Soyisimler   TelefonTuru                    Departman  \\\n0        ALİ       KANDEMİR         Sabit  Müşteri İlişkileri ve Satış   \n1     MAHMUT          ÇEVİK         Sabit           Yazılım Geliştirme   \n2     MANSUR        ERKURAN      Vodafone           Yazılım Geliştirme   \n3      GAMZE          TÜTEN      Vodafone           Yazılım Geliştirme   \n4      MİRAÇ         ÖZTÜRK  Türk Telekom           Yazılım Geliştirme   \n...      ...            ...           ...                          ...   \n2440  YILMAZ         YAZICI      Vodafone           Yazılım Geliştirme   \n2441  ZEYNEP     DOĞANGÜZEL  Türk Telekom           Yazılım Geliştirme   \n2442   CANER         AKKAYA  Türk Telekom           Yazılım Geliştirme   \n2443  VOLKAN  FEYZULLAHOĞLU  Türk Telekom           Yazılım Geliştirme   \n2444    EMRE          ŞAHİN      Vodafone           Yazılım Geliştirme   \n\n         Sehir     DogumTarihi   Maas     Telefon  \\\n0      Kocaeli   22 Nisan 1985   7477  2625462003   \n1     İstanbul   02 Mayıs 1979   9331  2128804662   \n2       Ankara   02 Kasım 1979   9679  5488439920   \n3        Bursa   03 Şubat 1987   3206  5427560798   \n4     İstanbul    22 Ekim 1987   6670  5544899572   \n...        ...             ...    ...         ...   \n2440   Kocaeli  09 Aralık 1975  10593  5443005679   \n2441  İstanbul   22 Mayıs 1986   4021  5533689407   \n2442  İstanbul   07 Kasım 1983   6716  5533969681   \n2443     Bursa  09 Temmuz 1984   7408  5069462233   \n2444  İstanbul  16 Temmuz 1978  12493  5415697256   \n\n                                mail  \n0             kandemirali@yandex.com  \n1            mahmut.çevik@yandex.com  \n2           mansur.erkuran@gmail.com  \n3             tütengamze@hotmail.com  \n4            öztürk.miraç@yandex.com  \n...                              ...  \n2440         yilmaz.yazici@yahoo.com  \n2441     zeynep.doğangüzel@gmail.com  \n2442         akkaya.caner@yandex.com  \n2443  feyzullahoğlu.volkan@yahoo.com  \n2444           emre.şahin@yandex.com  \n\n[2445 rows x 9 columns]",
      "text/html": "<div>\n<style scoped>\n    .dataframe tbody tr th:only-of-type {\n        vertical-align: middle;\n    }\n\n    .dataframe tbody tr th {\n        vertical-align: top;\n    }\n\n    .dataframe thead th {\n        text-align: right;\n    }\n</style>\n<table border=\"1\" class=\"dataframe\">\n  <thead>\n    <tr style=\"text-align: right;\">\n      <th></th>\n      <th>Isimler</th>\n      <th>Soyisimler</th>\n      <th>TelefonTuru</th>\n      <th>Departman</th>\n      <th>Sehir</th>\n      <th>DogumTarihi</th>\n      <th>Maas</th>\n      <th>Telefon</th>\n      <th>mail</th>\n    </tr>\n  </thead>\n  <tbody>\n    <tr>\n      <th>0</th>\n      <td>ALİ</td>\n      <td>KANDEMİR</td>\n      <td>Sabit</td>\n      <td>Müşteri İlişkileri ve Satış</td>\n      <td>Kocaeli</td>\n      <td>22 Nisan 1985</td>\n      <td>7477</td>\n      <td>2625462003</td>\n      <td>kandemirali@yandex.com</td>\n    </tr>\n    <tr>\n      <th>1</th>\n      <td>MAHMUT</td>\n      <td>ÇEVİK</td>\n      <td>Sabit</td>\n      <td>Yazılım Geliştirme</td>\n      <td>İstanbul</td>\n      <td>02 Mayıs 1979</td>\n      <td>9331</td>\n      <td>2128804662</td>\n      <td>mahmut.çevik@yandex.com</td>\n    </tr>\n    <tr>\n      <th>2</th>\n      <td>MANSUR</td>\n      <td>ERKURAN</td>\n      <td>Vodafone</td>\n      <td>Yazılım Geliştirme</td>\n      <td>Ankara</td>\n      <td>02 Kasım 1979</td>\n      <td>9679</td>\n      <td>5488439920</td>\n      <td>mansur.erkuran@gmail.com</td>\n    </tr>\n    <tr>\n      <th>3</th>\n      <td>GAMZE</td>\n      <td>TÜTEN</td>\n      <td>Vodafone</td>\n      <td>Yazılım Geliştirme</td>\n      <td>Bursa</td>\n      <td>03 Şubat 1987</td>\n      <td>3206</td>\n      <td>5427560798</td>\n      <td>tütengamze@hotmail.com</td>\n    </tr>\n    <tr>\n      <th>4</th>\n      <td>MİRAÇ</td>\n      <td>ÖZTÜRK</td>\n      <td>Türk Telekom</td>\n      <td>Yazılım Geliştirme</td>\n      <td>İstanbul</td>\n      <td>22 Ekim 1987</td>\n      <td>6670</td>\n      <td>5544899572</td>\n      <td>öztürk.miraç@yandex.com</td>\n    </tr>\n    <tr>\n      <th>...</th>\n      <td>...</td>\n      <td>...</td>\n      <td>...</td>\n      <td>...</td>\n      <td>...</td>\n      <td>...</td>\n      <td>...</td>\n      <td>...</td>\n      <td>...</td>\n    </tr>\n    <tr>\n      <th>2440</th>\n      <td>YILMAZ</td>\n      <td>YAZICI</td>\n      <td>Vodafone</td>\n      <td>Yazılım Geliştirme</td>\n      <td>Kocaeli</td>\n      <td>09 Aralık 1975</td>\n      <td>10593</td>\n      <td>5443005679</td>\n      <td>yilmaz.yazici@yahoo.com</td>\n    </tr>\n    <tr>\n      <th>2441</th>\n      <td>ZEYNEP</td>\n      <td>DOĞANGÜZEL</td>\n      <td>Türk Telekom</td>\n      <td>Yazılım Geliştirme</td>\n      <td>İstanbul</td>\n      <td>22 Mayıs 1986</td>\n      <td>4021</td>\n      <td>5533689407</td>\n      <td>zeynep.doğangüzel@gmail.com</td>\n    </tr>\n    <tr>\n      <th>2442</th>\n      <td>CANER</td>\n      <td>AKKAYA</td>\n      <td>Türk Telekom</td>\n      <td>Yazılım Geliştirme</td>\n      <td>İstanbul</td>\n      <td>07 Kasım 1983</td>\n      <td>6716</td>\n      <td>5533969681</td>\n      <td>akkaya.caner@yandex.com</td>\n    </tr>\n    <tr>\n      <th>2443</th>\n      <td>VOLKAN</td>\n      <td>FEYZULLAHOĞLU</td>\n      <td>Türk Telekom</td>\n      <td>Yazılım Geliştirme</td>\n      <td>Bursa</td>\n      <td>09 Temmuz 1984</td>\n      <td>7408</td>\n      <td>5069462233</td>\n      <td>feyzullahoğlu.volkan@yahoo.com</td>\n    </tr>\n    <tr>\n      <th>2444</th>\n      <td>EMRE</td>\n      <td>ŞAHİN</td>\n      <td>Vodafone</td>\n      <td>Yazılım Geliştirme</td>\n      <td>İstanbul</td>\n      <td>16 Temmuz 1978</td>\n      <td>12493</td>\n      <td>5415697256</td>\n      <td>emre.şahin@yandex.com</td>\n    </tr>\n  </tbody>\n</table>\n<p>2445 rows × 9 columns</p>\n</div>"
     },
     "execution_count": 76,
     "metadata": {},
     "output_type": "execute_result"
    }
   ],
   "source": [
    "df2"
   ],
   "metadata": {
    "collapsed": false,
    "pycharm": {
     "name": "#%%\n"
    }
   }
  },
  {
   "cell_type": "code",
   "execution_count": 77,
   "outputs": [
    {
     "data": {
      "text/plain": "0        8972.4\n1       11197.2\n2       11614.8\n3        3847.2\n4        8004.0\n         ...   \n2440    12711.6\n2441     4825.2\n2442     8059.2\n2443     8889.6\n2444    14991.6\nName: Maas, Length: 2445, dtype: float64"
     },
     "execution_count": 77,
     "metadata": {},
     "output_type": "execute_result"
    }
   ],
   "source": [
    "df2[\"Maas\"].mul(1.2)\n",
    "\n"
   ],
   "metadata": {
    "collapsed": false,
    "pycharm": {
     "name": "#%%\n"
    }
   }
  },
  {
   "cell_type": "code",
   "execution_count": 78,
   "outputs": [
    {
     "data": {
      "text/plain": "0       3738.5\n1       4665.5\n2       4839.5\n3       1603.0\n4       3335.0\n         ...  \n2440    5296.5\n2441    2010.5\n2442    3358.0\n2443    3704.0\n2444    6246.5\nName: Maas, Length: 2445, dtype: float64"
     },
     "execution_count": 78,
     "metadata": {},
     "output_type": "execute_result"
    }
   ],
   "source": [
    "df2[\"Maas\"].div(2)"
   ],
   "metadata": {
    "collapsed": false,
    "pycharm": {
     "name": "#%%\n"
    }
   }
  },
  {
   "cell_type": "code",
   "execution_count": 79,
   "outputs": [
    {
     "data": {
      "text/plain": "Yazılım Geliştirme             1459\nMüşteri İlişkileri ve Satış     372\nMali İşler                      364\nİnsan Kaynakları                174\nYönetim                          76\nName: Departman, dtype: int64"
     },
     "execution_count": 79,
     "metadata": {},
     "output_type": "execute_result"
    }
   ],
   "source": [
    "df2[\"Departman\"].value_counts()"
   ],
   "metadata": {
    "collapsed": false,
    "pycharm": {
     "name": "#%%\n"
    }
   }
  },
  {
   "cell_type": "code",
   "execution_count": null,
   "outputs": [],
   "source": [
    "\n"
   ],
   "metadata": {
    "collapsed": false,
    "pycharm": {
     "name": "#%%\n"
    }
   }
  }
 ],
 "metadata": {
  "kernelspec": {
   "display_name": "Python 3",
   "language": "python",
   "name": "python3"
  },
  "language_info": {
   "codemirror_mode": {
    "name": "ipython",
    "version": 2
   },
   "file_extension": ".py",
   "mimetype": "text/x-python",
   "name": "python",
   "nbconvert_exporter": "python",
   "pygments_lexer": "ipython2",
   "version": "2.7.6"
  }
 },
 "nbformat": 4,
 "nbformat_minor": 0
}