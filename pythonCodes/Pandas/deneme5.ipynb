{
 "cells": [
  {
   "cell_type": "code",
   "execution_count": 1,
   "metadata": {
    "collapsed": true
   },
   "outputs": [],
   "source": [
    "import pandas as pd\n",
    "\n"
   ]
  },
  {
   "cell_type": "code",
   "execution_count": 12,
   "outputs": [],
   "source": [
    "gunlerSerisi = pd.read_csv(\"gunler.csv\", index_col='Gunler' , squeeze=True)"
   ],
   "metadata": {
    "collapsed": false,
    "pycharm": {
     "name": "#%%\n"
    }
   }
  },
  {
   "cell_type": "code",
   "execution_count": 15,
   "outputs": [
    {
     "data": {
      "text/plain": "Gunler\nPazartesi     1\nSali          2\nCarsamba      3\nPersembe      4\nCuma          5\nCumartesi     6\nPazar         7\nPazartesi     8\nSali          9\nCarsamba     10\nName: Kumbara, dtype: int64"
     },
     "execution_count": 15,
     "metadata": {},
     "output_type": "execute_result"
    }
   ],
   "source": [
    "gunlerSerisi.head(10)"
   ],
   "metadata": {
    "collapsed": false,
    "pycharm": {
     "name": "#%%\n"
    }
   }
  },
  {
   "cell_type": "code",
   "execution_count": 18,
   "outputs": [
    {
     "data": {
      "text/plain": "Pazartesi      1\nPazartesi      8\nPazartesi     15\nPazartesi     22\nPazartesi     29\nPazartesi     36\nPazartesi     43\nPazartesi     50\nPazartesi     57\nPazartesi     64\nPazartesi     71\nPazartesi     78\nPazartesi     85\nPazartesi     92\nPazartesi     99\nPazartesi    106\nPazartesi    113\nPazartesi    120\nPazartesi    127\nPazartesi    134\nPazartesi    141\nPazartesi    148\nPazartesi    155\nPazartesi    162\nPazartesi    169\nPazartesi    176\nPazartesi    183\nPazartesi    190\nPazartesi    197\nPazartesi    204\nPazartesi    211\nPazartesi    218\nPazartesi    225\nPazartesi    232\nPazartesi    239\nPazartesi    246\nName: Kumbara, dtype: int64"
     },
     "execution_count": 18,
     "metadata": {},
     "output_type": "execute_result"
    }
   ],
   "source": [
    "gunlerSerisi[\"Pazartesi\"]"
   ],
   "metadata": {
    "collapsed": false,
    "pycharm": {
     "name": "#%%\n"
    }
   }
  },
  {
   "cell_type": "code",
   "execution_count": null,
   "outputs": [],
   "source": [
    "\n"
   ],
   "metadata": {
    "collapsed": false,
    "pycharm": {
     "name": "#%%\n"
    }
   }
  }
 ],
 "metadata": {
  "kernelspec": {
   "display_name": "Python 3",
   "language": "python",
   "name": "python3"
  },
  "language_info": {
   "codemirror_mode": {
    "name": "ipython",
    "version": 2
   },
   "file_extension": ".py",
   "mimetype": "text/x-python",
   "name": "python",
   "nbconvert_exporter": "python",
   "pygments_lexer": "ipython2",
   "version": "2.7.6"
  }
 },
 "nbformat": 4,
 "nbformat_minor": 0
}